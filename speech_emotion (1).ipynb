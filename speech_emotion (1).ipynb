{
 "cells": [
  {
   "cell_type": "code",
   "execution_count": 9,
   "metadata": {
    "id": "WLEsED-p0j4e"
   },
   "outputs": [
    {
     "name": "stderr",
     "output_type": "stream",
     "text": [
      "/var/folders/5y/332j26ls5r9bxfxv0h0yz8xc0000gn/T/ipykernel_3495/3461236087.py:17: DeprecationWarning: `magic(...)` is deprecated since IPython 0.13 (warning added in 8.1), use run_line_magic(magic_name, parameter_s).\n",
      "  get_ipython().magic('matplotlib inline')\n"
     ]
    },
    {
     "ename": "ModuleNotFoundError",
     "evalue": "No module named 'tensorflow'",
     "output_type": "error",
     "traceback": [
      "\u001b[0;31m---------------------------------------------------------------------------\u001b[0m",
      "\u001b[0;31mModuleNotFoundError\u001b[0m                       Traceback (most recent call last)",
      "Cell \u001b[0;32mIn[9], line 20\u001b[0m\n\u001b[1;32m     18\u001b[0m \u001b[38;5;66;03m#All the Required Packages and Libraies are installed.\u001b[39;00m\n\u001b[1;32m     19\u001b[0m \u001b[38;5;28;01mimport\u001b[39;00m \u001b[38;5;21;01msoundfile\u001b[39;00m\n\u001b[0;32m---> 20\u001b[0m \u001b[38;5;28;01mfrom\u001b[39;00m \u001b[38;5;21;01mtensorflow\u001b[39;00m\u001b[38;5;21;01m.\u001b[39;00m\u001b[38;5;21;01mkeras\u001b[39;00m\u001b[38;5;21;01m.\u001b[39;00m\u001b[38;5;21;01mlayers\u001b[39;00m \u001b[38;5;28;01mimport\u001b[39;00m Conv2D,MaxPool2D, Flatten, LSTM\n\u001b[1;32m     21\u001b[0m \u001b[38;5;28;01mfrom\u001b[39;00m \u001b[38;5;21;01mkeras\u001b[39;00m\u001b[38;5;21;01m.\u001b[39;00m\u001b[38;5;21;01mlayers\u001b[39;00m \u001b[38;5;28;01mimport\u001b[39;00m Dropout,Dense,TimeDistributed\n\u001b[1;32m     22\u001b[0m \u001b[38;5;28;01mfrom\u001b[39;00m \u001b[38;5;21;01mkeras\u001b[39;00m\u001b[38;5;21;01m.\u001b[39;00m\u001b[38;5;21;01mmodels\u001b[39;00m \u001b[38;5;28;01mimport\u001b[39;00m Sequential\n",
      "\u001b[0;31mModuleNotFoundError\u001b[0m: No module named 'tensorflow'"
     ]
    }
   ],
   "source": [
    "#Install all the Reqiuired Libraries and Packages\n",
    "import os\n",
    "import glob\n",
    "from tqdm import tqdm\n",
    "import pandas as pd\n",
    "import numpy as np\n",
    "import matplotlib.pyplot as plt\n",
    "from scipy.io import wavfile\n",
    "from python_speech_features import mfcc , logfbank\n",
    "import librosa as lr\n",
    "import os, glob, pickle\n",
    "import librosa\n",
    "from scipy import signal\n",
    "import noisereduce as nr\n",
    "from glob import glob\n",
    "import librosa\n",
    "get_ipython().magic('matplotlib inline')\n",
    "#All the Required Packages and Libraies are installed.\n",
    "import soundfile\n",
    "from tensorflow.keras.layers import Conv2D,MaxPool2D, Flatten, LSTM\n",
    "from keras.layers import Dropout,Dense,TimeDistributed\n",
    "from keras.models import Sequential\n",
    "from keras.utils import to_categorical\n",
    "from sklearn.utils.class_weight import compute_class_weight\n",
    "from sklearn.model_selection import train_test_split\n",
    "from sklearn.neural_network import MLPClassifier\n",
    "from sklearn.metrics import accuracy_score"
   ]
  },
  {
   "cell_type": "code",
   "execution_count": 3,
   "metadata": {
    "colab": {
     "base_uri": "https://localhost:8080/"
    },
    "id": "RgodcXCWRUj4",
    "outputId": "70a76016-ff81-4a37-a9f4-e0e2a4fd201e"
   },
   "outputs": [
    {
     "name": "stdout",
     "output_type": "stream",
     "text": [
      "Collecting noisereduce\n",
      "  Downloading noisereduce-3.0.2-py3-none-any.whl.metadata (14 kB)\n",
      "Requirement already satisfied: scipy in /opt/anaconda3/lib/python3.12/site-packages (from noisereduce) (1.13.1)\n",
      "Requirement already satisfied: matplotlib in /opt/anaconda3/lib/python3.12/site-packages (from noisereduce) (3.8.4)\n",
      "Collecting librosa (from noisereduce)\n",
      "  Downloading librosa-0.10.2.post1-py3-none-any.whl.metadata (8.6 kB)\n",
      "Requirement already satisfied: numpy in /opt/anaconda3/lib/python3.12/site-packages (from noisereduce) (1.26.4)\n",
      "Requirement already satisfied: tqdm in /opt/anaconda3/lib/python3.12/site-packages (from noisereduce) (4.66.4)\n",
      "Collecting audioread>=2.1.9 (from librosa->noisereduce)\n",
      "  Downloading audioread-3.0.1-py3-none-any.whl.metadata (8.4 kB)\n",
      "Requirement already satisfied: scikit-learn>=0.20.0 in /opt/anaconda3/lib/python3.12/site-packages (from librosa->noisereduce) (1.4.2)\n",
      "Requirement already satisfied: joblib>=0.14 in /opt/anaconda3/lib/python3.12/site-packages (from librosa->noisereduce) (1.4.2)\n",
      "Requirement already satisfied: decorator>=4.3.0 in /opt/anaconda3/lib/python3.12/site-packages (from librosa->noisereduce) (5.1.1)\n",
      "Requirement already satisfied: numba>=0.51.0 in /opt/anaconda3/lib/python3.12/site-packages (from librosa->noisereduce) (0.59.1)\n",
      "Collecting soundfile>=0.12.1 (from librosa->noisereduce)\n",
      "  Downloading soundfile-0.12.1-py2.py3-none-macosx_11_0_arm64.whl.metadata (14 kB)\n",
      "Collecting pooch>=1.1 (from librosa->noisereduce)\n",
      "  Downloading pooch-1.8.2-py3-none-any.whl.metadata (10 kB)\n",
      "Collecting soxr>=0.3.2 (from librosa->noisereduce)\n",
      "  Downloading soxr-0.5.0.post1-cp312-abi3-macosx_11_0_arm64.whl.metadata (5.6 kB)\n",
      "Requirement already satisfied: typing-extensions>=4.1.1 in /opt/anaconda3/lib/python3.12/site-packages (from librosa->noisereduce) (4.11.0)\n",
      "Requirement already satisfied: lazy-loader>=0.1 in /opt/anaconda3/lib/python3.12/site-packages (from librosa->noisereduce) (0.4)\n",
      "Requirement already satisfied: msgpack>=1.0 in /opt/anaconda3/lib/python3.12/site-packages (from librosa->noisereduce) (1.0.3)\n",
      "Requirement already satisfied: contourpy>=1.0.1 in /opt/anaconda3/lib/python3.12/site-packages (from matplotlib->noisereduce) (1.2.0)\n",
      "Requirement already satisfied: cycler>=0.10 in /opt/anaconda3/lib/python3.12/site-packages (from matplotlib->noisereduce) (0.11.0)\n",
      "Requirement already satisfied: fonttools>=4.22.0 in /opt/anaconda3/lib/python3.12/site-packages (from matplotlib->noisereduce) (4.51.0)\n",
      "Requirement already satisfied: kiwisolver>=1.3.1 in /opt/anaconda3/lib/python3.12/site-packages (from matplotlib->noisereduce) (1.4.4)\n",
      "Requirement already satisfied: packaging>=20.0 in /opt/anaconda3/lib/python3.12/site-packages (from matplotlib->noisereduce) (23.2)\n",
      "Requirement already satisfied: pillow>=8 in /opt/anaconda3/lib/python3.12/site-packages (from matplotlib->noisereduce) (10.3.0)\n",
      "Requirement already satisfied: pyparsing>=2.3.1 in /opt/anaconda3/lib/python3.12/site-packages (from matplotlib->noisereduce) (3.0.9)\n",
      "Requirement already satisfied: python-dateutil>=2.7 in /opt/anaconda3/lib/python3.12/site-packages (from matplotlib->noisereduce) (2.9.0.post0)\n",
      "Requirement already satisfied: llvmlite<0.43,>=0.42.0dev0 in /opt/anaconda3/lib/python3.12/site-packages (from numba>=0.51.0->librosa->noisereduce) (0.42.0)\n",
      "Requirement already satisfied: platformdirs>=2.5.0 in /opt/anaconda3/lib/python3.12/site-packages (from pooch>=1.1->librosa->noisereduce) (3.10.0)\n",
      "Requirement already satisfied: requests>=2.19.0 in /opt/anaconda3/lib/python3.12/site-packages (from pooch>=1.1->librosa->noisereduce) (2.32.2)\n",
      "Requirement already satisfied: six>=1.5 in /opt/anaconda3/lib/python3.12/site-packages (from python-dateutil>=2.7->matplotlib->noisereduce) (1.16.0)\n",
      "Requirement already satisfied: threadpoolctl>=2.0.0 in /opt/anaconda3/lib/python3.12/site-packages (from scikit-learn>=0.20.0->librosa->noisereduce) (2.2.0)\n",
      "Requirement already satisfied: cffi>=1.0 in /opt/anaconda3/lib/python3.12/site-packages (from soundfile>=0.12.1->librosa->noisereduce) (1.16.0)\n",
      "Requirement already satisfied: pycparser in /opt/anaconda3/lib/python3.12/site-packages (from cffi>=1.0->soundfile>=0.12.1->librosa->noisereduce) (2.21)\n",
      "Requirement already satisfied: charset-normalizer<4,>=2 in /opt/anaconda3/lib/python3.12/site-packages (from requests>=2.19.0->pooch>=1.1->librosa->noisereduce) (2.0.4)\n",
      "Requirement already satisfied: idna<4,>=2.5 in /opt/anaconda3/lib/python3.12/site-packages (from requests>=2.19.0->pooch>=1.1->librosa->noisereduce) (3.7)\n",
      "Requirement already satisfied: urllib3<3,>=1.21.1 in /opt/anaconda3/lib/python3.12/site-packages (from requests>=2.19.0->pooch>=1.1->librosa->noisereduce) (2.2.2)\n",
      "Requirement already satisfied: certifi>=2017.4.17 in /opt/anaconda3/lib/python3.12/site-packages (from requests>=2.19.0->pooch>=1.1->librosa->noisereduce) (2024.7.4)\n",
      "Downloading noisereduce-3.0.2-py3-none-any.whl (22 kB)\n",
      "Downloading librosa-0.10.2.post1-py3-none-any.whl (260 kB)\n",
      "\u001b[2K   \u001b[90m━━━━━━━━━━━━━━━━━━━━━━━━━━━━━━━━━━━━━━━━\u001b[0m \u001b[32m260.1/260.1 kB\u001b[0m \u001b[31m3.6 MB/s\u001b[0m eta \u001b[36m0:00:00\u001b[0ma \u001b[36m0:00:01\u001b[0m\n",
      "\u001b[?25hDownloading audioread-3.0.1-py3-none-any.whl (23 kB)\n",
      "Downloading pooch-1.8.2-py3-none-any.whl (64 kB)\n",
      "\u001b[2K   \u001b[90m━━━━━━━━━━━━━━━━━━━━━━━━━━━━━━━━━━━━━━━━\u001b[0m \u001b[32m64.6/64.6 kB\u001b[0m \u001b[31m8.4 MB/s\u001b[0m eta \u001b[36m0:00:00\u001b[0m\n",
      "\u001b[?25hDownloading soundfile-0.12.1-py2.py3-none-macosx_11_0_arm64.whl (1.1 MB)\n",
      "\u001b[2K   \u001b[90m━━━━━━━━━━━━━━━━━━━━━━━━━━━━━━━━━━━━━━━━\u001b[0m \u001b[32m1.1/1.1 MB\u001b[0m \u001b[31m17.8 MB/s\u001b[0m eta \u001b[36m0:00:00\u001b[0ma \u001b[36m0:00:01\u001b[0m\n",
      "\u001b[?25hDownloading soxr-0.5.0.post1-cp312-abi3-macosx_11_0_arm64.whl (156 kB)\n",
      "\u001b[2K   \u001b[90m━━━━━━━━━━━━━━━━━━━━━━━━━━━━━━━━━━━━━━━━\u001b[0m \u001b[32m156.4/156.4 kB\u001b[0m \u001b[31m13.7 MB/s\u001b[0m eta \u001b[36m0:00:00\u001b[0m\n",
      "\u001b[?25hInstalling collected packages: soxr, audioread, soundfile, pooch, librosa, noisereduce\n",
      "Successfully installed audioread-3.0.1 librosa-0.10.2.post1 noisereduce-3.0.2 pooch-1.8.2 soundfile-0.12.1 soxr-0.5.0.post1\n",
      "Note: you may need to restart the kernel to use updated packages.\n"
     ]
    }
   ],
   "source": [
    "pip install noisereduce"
   ]
  },
  {
   "cell_type": "code",
   "execution_count": 5,
   "metadata": {
    "colab": {
     "base_uri": "https://localhost:8080/"
    },
    "id": "AKn9VaZysVXS",
    "outputId": "fe4f4541-6170-4395-87ab-9343f642c1bf"
   },
   "outputs": [
    {
     "name": "stdout",
     "output_type": "stream",
     "text": [
      "Collecting python_speech_features\n",
      "  Downloading python_speech_features-0.6.tar.gz (5.6 kB)\n",
      "  Preparing metadata (setup.py) ... \u001b[?25ldone\n",
      "\u001b[?25hBuilding wheels for collected packages: python_speech_features\n",
      "  Building wheel for python_speech_features (setup.py) ... \u001b[?25ldone\n",
      "\u001b[?25h  Created wheel for python_speech_features: filename=python_speech_features-0.6-py3-none-any.whl size=5868 sha256=b676a01b1c3b8ed897529e3c195ac71266c901150fc5113976c81287d96f41fc\n",
      "  Stored in directory: /Users/nithyareddybilla/Library/Caches/pip/wheels/60/90/3c/4b5996a95d363fa14525597a19146a940bec467b44b2a14580\n",
      "Successfully built python_speech_features\n",
      "Installing collected packages: python_speech_features\n",
      "Successfully installed python_speech_features-0.6\n",
      "Note: you may need to restart the kernel to use updated packages.\n"
     ]
    }
   ],
   "source": [
    "pip install python_speech_features"
   ]
  },
  {
   "cell_type": "code",
   "execution_count": 11,
   "metadata": {
    "colab": {
     "base_uri": "https://localhost:8080/"
    },
    "id": "2hmaX89G0yOR",
    "outputId": "f79cc382-3ab5-4fde-a9ad-88feeceea8e9"
   },
   "outputs": [
    {
     "ename": "ModuleNotFoundError",
     "evalue": "No module named 'google.colab'",
     "output_type": "error",
     "traceback": [
      "\u001b[0;31m---------------------------------------------------------------------------\u001b[0m",
      "\u001b[0;31mModuleNotFoundError\u001b[0m                       Traceback (most recent call last)",
      "Cell \u001b[0;32mIn[11], line 1\u001b[0m\n\u001b[0;32m----> 1\u001b[0m \u001b[38;5;28;01mfrom\u001b[39;00m \u001b[38;5;21;01mgoogle\u001b[39;00m\u001b[38;5;21;01m.\u001b[39;00m\u001b[38;5;21;01mcolab\u001b[39;00m \u001b[38;5;28;01mimport\u001b[39;00m drive\n\u001b[1;32m      2\u001b[0m drive\u001b[38;5;241m.\u001b[39mmount(\u001b[38;5;124m'\u001b[39m\u001b[38;5;124m/content/drive\u001b[39m\u001b[38;5;124m'\u001b[39m)\n",
      "\u001b[0;31mModuleNotFoundError\u001b[0m: No module named 'google.colab'"
     ]
    }
   ],
   "source": [
    "from google.colab import drive\n",
    "drive.mount('/content/drive')"
   ]
  },
  {
   "cell_type": "code",
   "execution_count": 13,
   "metadata": {
    "colab": {
     "base_uri": "https://localhost:8080/"
    },
    "id": "y0O6s7Us0j4g",
    "outputId": "61f024cc-e457-4e22-8cd1-16ae17a42fd6"
   },
   "outputs": [
    {
     "ename": "FileNotFoundError",
     "evalue": "[Errno 2] No such file or directory: '/content/drive/MyDrive/Speech_Emotion_Detection-master/speech-emotion-recognition-ravdess-data'",
     "output_type": "error",
     "traceback": [
      "\u001b[0;31m---------------------------------------------------------------------------\u001b[0m",
      "\u001b[0;31mFileNotFoundError\u001b[0m                         Traceback (most recent call last)",
      "Cell \u001b[0;32mIn[13], line 2\u001b[0m\n\u001b[1;32m      1\u001b[0m \u001b[38;5;66;03m#Loading the required RAVDESS DataSet with length of 1439 Audio Files\u001b[39;00m\n\u001b[0;32m----> 2\u001b[0m os\u001b[38;5;241m.\u001b[39mlistdir(path\u001b[38;5;241m=\u001b[39m\u001b[38;5;124m'\u001b[39m\u001b[38;5;124m/content/drive/MyDrive/Speech_Emotion_Detection-master/speech-emotion-recognition-ravdess-data\u001b[39m\u001b[38;5;124m'\u001b[39m)\n\u001b[1;32m      3\u001b[0m \u001b[38;5;28;01mdef\u001b[39;00m \u001b[38;5;21mgetListOfFiles\u001b[39m(dirName):\n\u001b[1;32m      4\u001b[0m     listOfFile\u001b[38;5;241m=\u001b[39mos\u001b[38;5;241m.\u001b[39mlistdir(dirName)\n",
      "\u001b[0;31mFileNotFoundError\u001b[0m: [Errno 2] No such file or directory: '/content/drive/MyDrive/Speech_Emotion_Detection-master/speech-emotion-recognition-ravdess-data'"
     ]
    }
   ],
   "source": [
    "#Loading the required RAVDESS DataSet with length of 1439 Audio Files\n",
    "os.listdir(path='/content/drive/MyDrive/Speech_Emotion_Detection-master/speech-emotion-recognition-ravdess-data')\n",
    "def getListOfFiles(dirName):\n",
    "    listOfFile=os.listdir(dirName)\n",
    "    allFiles=list()\n",
    "    for entry in listOfFile:\n",
    "        fullPath=os.path.join(dirName, entry)\n",
    "        if os.path.isdir(fullPath):\n",
    "            allFiles=allFiles + getListOfFiles(fullPath)\n",
    "        else:\n",
    "            allFiles.append(fullPath)\n",
    "    return allFiles\n",
    "\n",
    "dirName = '/content/drive/MyDrive/Speech_Emotion_Detection-master/speech-emotion-recognition-ravdess-data/'\n",
    "listOfFiles = getListOfFiles(dirName)\n",
    "len(listOfFiles)"
   ]
  },
  {
   "cell_type": "code",
   "execution_count": 15,
   "metadata": {
    "colab": {
     "base_uri": "https://localhost:8080/"
    },
    "id": "XJryJLQJTbRe",
    "outputId": "725d26af-4352-46f4-8452-3b564a518791"
   },
   "outputs": [
    {
     "name": "stdout",
     "output_type": "stream",
     "text": [
      "Collecting SpeechRecognition\n",
      "  Downloading SpeechRecognition-3.10.4-py2.py3-none-any.whl.metadata (28 kB)\n",
      "Requirement already satisfied: requests>=2.26.0 in /opt/anaconda3/lib/python3.12/site-packages (from SpeechRecognition) (2.32.2)\n",
      "Requirement already satisfied: typing-extensions in /opt/anaconda3/lib/python3.12/site-packages (from SpeechRecognition) (4.11.0)\n",
      "Requirement already satisfied: charset-normalizer<4,>=2 in /opt/anaconda3/lib/python3.12/site-packages (from requests>=2.26.0->SpeechRecognition) (2.0.4)\n",
      "Requirement already satisfied: idna<4,>=2.5 in /opt/anaconda3/lib/python3.12/site-packages (from requests>=2.26.0->SpeechRecognition) (3.7)\n",
      "Requirement already satisfied: urllib3<3,>=1.21.1 in /opt/anaconda3/lib/python3.12/site-packages (from requests>=2.26.0->SpeechRecognition) (2.2.2)\n",
      "Requirement already satisfied: certifi>=2017.4.17 in /opt/anaconda3/lib/python3.12/site-packages (from requests>=2.26.0->SpeechRecognition) (2024.7.4)\n",
      "Downloading SpeechRecognition-3.10.4-py2.py3-none-any.whl (32.8 MB)\n",
      "\u001b[2K   \u001b[90m━━━━━━━━━━━━━━━━━━━━━━━━━━━━━━━━━━━━━━━━\u001b[0m \u001b[32m32.8/32.8 MB\u001b[0m \u001b[31m30.0 MB/s\u001b[0m eta \u001b[36m0:00:00\u001b[0m00:01\u001b[0m00:01\u001b[0m\n",
      "\u001b[?25hInstalling collected packages: SpeechRecognition\n",
      "Successfully installed SpeechRecognition-3.10.4\n",
      "Note: you may need to restart the kernel to use updated packages.\n"
     ]
    }
   ],
   "source": [
    "pip install SpeechRecognition"
   ]
  },
  {
   "cell_type": "code",
   "execution_count": 17,
   "metadata": {
    "colab": {
     "base_uri": "https://localhost:8080/"
    },
    "id": "3pvsUvRO0j4g",
    "outputId": "368c8c27-ff61-44d6-d2bc-f4208f64e79a"
   },
   "outputs": [
    {
     "ename": "NameError",
     "evalue": "name 'listOfFiles' is not defined",
     "output_type": "error",
     "traceback": [
      "\u001b[0;31m---------------------------------------------------------------------------\u001b[0m",
      "\u001b[0;31mNameError\u001b[0m                                 Traceback (most recent call last)",
      "Cell \u001b[0;32mIn[17], line 6\u001b[0m\n\u001b[1;32m      4\u001b[0m \u001b[38;5;28;01mimport\u001b[39;00m \u001b[38;5;21;01mspeech_recognition\u001b[39;00m \u001b[38;5;28;01mas\u001b[39;00m \u001b[38;5;21;01msr\u001b[39;00m\n\u001b[1;32m      5\u001b[0m r\u001b[38;5;241m=\u001b[39msr\u001b[38;5;241m.\u001b[39mRecognizer()\n\u001b[0;32m----> 6\u001b[0m \u001b[38;5;28;01mfor\u001b[39;00m file \u001b[38;5;129;01min\u001b[39;00m \u001b[38;5;28mrange\u001b[39m(\u001b[38;5;241m0\u001b[39m , \u001b[38;5;28mlen\u001b[39m(listOfFiles) , \u001b[38;5;241m1\u001b[39m):\n\u001b[1;32m      7\u001b[0m     \u001b[38;5;28;01mwith\u001b[39;00m sr\u001b[38;5;241m.\u001b[39mAudioFile(listOfFiles[file]) \u001b[38;5;28;01mas\u001b[39;00m source:\n\u001b[1;32m      8\u001b[0m         audio \u001b[38;5;241m=\u001b[39m r\u001b[38;5;241m.\u001b[39mlisten(source)\n",
      "\u001b[0;31mNameError\u001b[0m: name 'listOfFiles' is not defined"
     ]
    }
   ],
   "source": [
    "#Use the Speech-Recognition API to get the Raw Text from Audio Files, Though Speech Recognition\n",
    "#is less strong for large chunk of files , so used Error Handling , where when it is not be able to\n",
    "#produce the text of a particular Audio File it prints the statement 'error'.Just for understanding Audio\n",
    "import speech_recognition as sr\n",
    "r=sr.Recognizer()\n",
    "for file in range(0 , len(listOfFiles) , 1):\n",
    "    with sr.AudioFile(listOfFiles[file]) as source:\n",
    "        audio = r.listen(source)\n",
    "        try:\n",
    "            text = r.recognize_google(audio)\n",
    "            print(text)\n",
    "        except:\n",
    "            print('error')"
   ]
  },
  {
   "cell_type": "code",
   "execution_count": 19,
   "metadata": {
    "id": "2VrVYcBG0j4h"
   },
   "outputs": [],
   "source": [
    "#Now Cleaning Step is Performed where:\n",
    "#DOWN SAMPLING OF AUDIO FILES IS DONE  AND PUT MASK OVER IT AND DIRECT INTO CLEAN FOLDER\n",
    "#MASK IS TO REMOVE UNNECESSARY EMPTY VOIVES AROUND THE MAIN AUDIO VOICE\n",
    "def envelope(y , rate, threshold):\n",
    "    mask=[]\n",
    "    y=pd.Series(y).apply(np.abs)\n",
    "    y_mean = y.rolling(window=int(rate/10) ,  min_periods=1 , center = True).mean()\n",
    "    for mean in y_mean:\n",
    "        if mean>threshold:\n",
    "            mask.append(True)\n",
    "        else:\n",
    "            mask.append(False)\n",
    "    return mask"
   ]
  },
  {
   "cell_type": "code",
   "execution_count": 21,
   "metadata": {
    "id": "PVvkHa2p0j4h"
   },
   "outputs": [
    {
     "ename": "NameError",
     "evalue": "name 'listOfFiles' is not defined",
     "output_type": "error",
     "traceback": [
      "\u001b[0;31m---------------------------------------------------------------------------\u001b[0m",
      "\u001b[0;31mNameError\u001b[0m                                 Traceback (most recent call last)",
      "Cell \u001b[0;32mIn[21], line 2\u001b[0m\n\u001b[1;32m      1\u001b[0m \u001b[38;5;66;03m#Plotting the Basic Graphs for understanding of Audio Files :\u001b[39;00m\n\u001b[0;32m----> 2\u001b[0m \u001b[38;5;28;01mfor\u001b[39;00m file \u001b[38;5;129;01min\u001b[39;00m \u001b[38;5;28mrange\u001b[39m(\u001b[38;5;241m0\u001b[39m , \u001b[38;5;28mlen\u001b[39m(listOfFiles) , \u001b[38;5;241m1\u001b[39m):\n\u001b[1;32m      3\u001b[0m     audio , sfreq \u001b[38;5;241m=\u001b[39m lr\u001b[38;5;241m.\u001b[39mload(listOfFiles[file])\n\u001b[1;32m      4\u001b[0m     time \u001b[38;5;241m=\u001b[39m np\u001b[38;5;241m.\u001b[39marange(\u001b[38;5;241m0\u001b[39m , \u001b[38;5;28mlen\u001b[39m(audio)) \u001b[38;5;241m/\u001b[39m sfreq\n",
      "\u001b[0;31mNameError\u001b[0m: name 'listOfFiles' is not defined"
     ]
    }
   ],
   "source": [
    "#Plotting the Basic Graphs for understanding of Audio Files :\n",
    "for file in range(0 , len(listOfFiles) , 1):\n",
    "    audio , sfreq = lr.load(listOfFiles[file])\n",
    "    time = np.arange(0 , len(audio)) / sfreq\n",
    "\n",
    "    fig ,ax = plt.subplots()\n",
    "    ax.plot(time , audio)\n",
    "    ax.set(xlabel = 'Time (s)' , ylabel = 'Sound Amplitude')\n",
    "    plt.show()\n",
    "\n",
    "#PLOT THE SEPCTOGRAM\n",
    "for file in range(0 , len(listOfFiles) , 1):\n",
    "     sample_rate , samples = wavfile.read(listOfFiles[file])\n",
    "     frequencies , times, spectrogram = signal.spectrogram(samples, sample_rate)\n",
    "     plt.pcolormesh(times, frequencies, spectrogram)\n",
    "     plt.imshow(spectrogram)\n",
    "     plt.ylabel('Frequency [Hz]')\n",
    "     plt.xlabel('Time [sec]')\n",
    "     plt.show()"
   ]
  },
  {
   "cell_type": "code",
   "execution_count": 23,
   "metadata": {
    "id": "MP_hMkd70j4h"
   },
   "outputs": [],
   "source": [
    "#Next Step is In-Depth Visualisation of Audio Fiels and its certain features to plot for.\n",
    "#They are the Plotting Functions to be called later.\n",
    "def plot_signals(signals):\n",
    "    fig , axes = plt.subplots(nrows=2, ncols=5,sharex =False , sharey=True, figsize=(20,5))\n",
    "    fig.suptitle('Time Series' , size=16)\n",
    "    i=0\n",
    "    for x in range(2):\n",
    "        for y in range(5):\n",
    "            axes[x,y].set_title(list(signals.keys())[i])\n",
    "            axes[x,y].plot(list(signals.values())[i])\n",
    "            axes[x,y].get_xaxis().set_visible(False)\n",
    "            axes[x,y].get_yaxis().set_visible(False)\n",
    "            i +=1\n",
    "\n",
    "def plot_fft(fft):\n",
    "    fig , axes = plt.subplots(nrows=2, ncols=5,sharex =False , sharey=True, figsize=(20,5))\n",
    "    fig.suptitle('Fourier Transform' , size=16)\n",
    "    i=0\n",
    "    for x in range(2):\n",
    "        for y in range(5):\n",
    "            data = list(fft.values())[i]\n",
    "            Y,freq = data[0] , data[1]\n",
    "            axes[x,y].set_title(list(fft.keys())[i])\n",
    "            axes[x,y].plot(freq , Y)\n",
    "            axes[x,y].get_xaxis().set_visible(False)\n",
    "            axes[x,y].get_yaxis().set_visible(False)\n",
    "            i +=1\n",
    "\n",
    "def plot_fbank(fbank):\n",
    "    fig , axes = plt.subplots(nrows=2, ncols=5,sharex =False , sharey=True, figsize=(20,5))\n",
    "    fig.suptitle('Filter Bank Coefficients' , size=16)\n",
    "    i=0\n",
    "    for x in range(2):\n",
    "        for y in range(5):\n",
    "            axes[x,y].set_title(list(fbank.keys())[i])\n",
    "            axes[x,y].imshow(list(fbank.values())[i],cmap='hot', interpolation = 'nearest')\n",
    "            axes[x,y].get_xaxis().set_visible(False)\n",
    "            axes[x,y].get_yaxis().set_visible(False)\n",
    "            i +=1\n",
    "\n",
    "def plot_mfccs(mfccs):\n",
    "    fig , axes = plt.subplots(nrows=2, ncols=5,sharex =False , sharey=True, figsize=(20,5))\n",
    "    fig.suptitle('Mel Frequency Capstrum  Coefficients' , size=16)\n",
    "    i=0\n",
    "    for x in range(2):\n",
    "        for y in range(5):\n",
    "            axes[x,y].set_title(list(mfccs.keys())[i])\n",
    "            axes[x,y].imshow(list(mfccs.values())[i],\n",
    "                             cmap='hot', interpolation = 'nearest')\n",
    "            axes[x,y].get_xaxis().set_visible(False)\n",
    "            axes[x,y].get_yaxis().set_visible(False)\n",
    "            i +=1\n",
    "\n",
    "def calc_fft(y,rate):\n",
    "    n = len(y)\n",
    "    freq = np.fft.rfftfreq(n , d= 1/rate)\n",
    "    Y= abs(np.fft.rfft(y)/n)\n",
    "    return(Y,freq)"
   ]
  },
  {
   "cell_type": "code",
   "execution_count": null,
   "metadata": {
    "id": "EKnguOym0j4h"
   },
   "outputs": [],
   "source": [
    "# Here The Data Set is loaded and plots are Visualised by Calling the Plotting Functions .\n",
    "import matplotlib.pyplot as plt\n",
    "from scipy.io import wavfile as wav\n",
    "from scipy.fftpack import fft\n",
    "import numpy as np\n",
    "for file in range(0 , len(listOfFiles) , 1):\n",
    "    rate, data = wav.read(listOfFiles[file])\n",
    "    fft_out = fft(data)\n",
    "    %matplotlib inline\n",
    "    plt.plot(data, np.abs(fft_out))\n",
    "    plt.show()\n",
    "\n",
    "signals={}\n",
    "fft={}\n",
    "fbank={}\n",
    "mfccs={}\n",
    "# load data\n",
    "for file in range(0 , len(listOfFiles) , 1):\n",
    "#     rate, data = wavfile.read(listOfFiles[file])\n",
    "     signal,rate =librosa.load(listOfFiles[file] , sr=44100)\n",
    "     mask = envelope(signal , rate , 0.0005)\n",
    "     signals[file] = signal\n",
    "     fft[file] = calc_fft(signal , rate)\n",
    "\n",
    "     bank = logfbank(signal[:rate] , rate , nfilt = 26, nfft = 1103).T\n",
    "     fbank[file] = bank\n",
    "     mel = mfcc(signal[:rate] , rate , numcep =13 , nfilt = 26 , nfft=1103).T\n",
    "     mfccs[file]=mel\n",
    "\n",
    "plot_signals(signals)\n",
    "plt.show()\n",
    "\n",
    "plot_fft(fft)\n",
    "plt.show()\n",
    "\n",
    "plot_fbank(fbank)\n",
    "plt.show()\n",
    "\n",
    "plot_mfccs(mfccs)\n",
    "plt.show()"
   ]
  },
  {
   "cell_type": "code",
   "execution_count": null,
   "metadata": {
    "id": "LXcb7PKn0j4i"
   },
   "outputs": [],
   "source": [
    "#Now Cleaning Step is Performed where:\n",
    "#DOWN SAMPLING OF AUDIO FILES IS DONE  AND PUT MASK OVER IT AND DIRECT INTO CLEAN FOLDER\n",
    "#MASK IS TO REMOVE UNNECESSARY EMPTY VOICES AROUND THE MAIN AUDIO VOICE\n",
    "def envelope(y , rate, threshold):\n",
    "    mask=[]\n",
    "    y=pd.Series(y).apply(np.abs)\n",
    "    y_mean = y.rolling(window=int(rate/10) ,  min_periods=1 , center = True).mean()\n",
    "    for mean in y_mean:\n",
    "        if mean>threshold:\n",
    "            mask.append(True)\n",
    "        else:\n",
    "            mask.append(False)\n",
    "    return mask"
   ]
  },
  {
   "cell_type": "code",
   "execution_count": null,
   "metadata": {
    "colab": {
     "background_save": true,
     "base_uri": "https://localhost:8080/"
    },
    "id": "BWYUK38Y0j4i",
    "outputId": "c9cccbc9-bd7e-4ff6-f412-5f34ffa92c2c"
   },
   "outputs": [
    {
     "name": "stderr",
     "output_type": "stream",
     "text": [
      "100%|██████████| 1439/1439 [15:49<00:00,  1.52it/s]\n"
     ]
    }
   ],
   "source": [
    "#The clean Audio Files are redirected to Clean Audio Folder Directory\n",
    "import glob,pickle\n",
    "for file in tqdm(glob.glob('/content/drive/MyDrive/Speech_Emotion_Detection-master/speech-emotion-recognition-ravdess-data//**//*.wav')):\n",
    "    file_name = os.path.basename(file)\n",
    "    signal , rate = librosa.load(file, sr=16000)\n",
    "    mask = envelope(signal,rate, 0.0005)\n",
    "    wavfile.write(filename= '/content/drive/MyDrive/Speech_Emotion_Detection-master/clean_speech/'+str(file_name), rate=rate,data=signal[mask])"
   ]
  },
  {
   "cell_type": "code",
   "execution_count": null,
   "metadata": {
    "id": "ZYMvQC560j4i"
   },
   "outputs": [],
   "source": []
  },
  {
   "cell_type": "code",
   "execution_count": null,
   "metadata": {
    "colab": {
     "background_save": true
    },
    "id": "YmgJcmgp0j4j"
   },
   "outputs": [],
   "source": [
    "#Feature Extraction of Audio Files Function\n",
    "#Extract features (mfcc, chroma, mel) from a sound file\n",
    "def extract_feature(file_name, mfcc, chroma, mel):\n",
    "    with soundfile.SoundFile(file_name) as sound_file:\n",
    "        X = sound_file.read(dtype=\"float32\")\n",
    "        sample_rate=sound_file.samplerate\n",
    "        if chroma:\n",
    "            stft=np.abs(librosa.stft(X))\n",
    "        result=np.array([])\n",
    "        if mfcc:\n",
    "            mfccs=np.mean(librosa.feature.mfcc(y=X, sr=sample_rate, n_mfcc=40).T, axis=0)\n",
    "        result=np.hstack((result, mfccs))\n",
    "        if chroma:\n",
    "            chroma=np.mean(librosa.feature.chroma_stft(S=stft, sr=sample_rate).T,axis=0)\n",
    "        result=np.hstack((result, chroma))\n",
    "        if mel:\n",
    "            mel=np.mean(librosa.feature.melspectrogram(X, sr=sample_rate).T,axis=0)\n",
    "        result=np.hstack((result, mel))\n",
    "    return result"
   ]
  },
  {
   "cell_type": "code",
   "execution_count": null,
   "metadata": {
    "colab": {
     "background_save": true
    },
    "id": "FWuI2L6-J-L4"
   },
   "outputs": [],
   "source": [
    "def extract_feature(file_name, mfcc, chroma, mel):\n",
    "    X, sample_rate = lr.load(file_name)\n",
    "    result = np.array([])\n",
    "    if mfcc:\n",
    "        mfccs = np.mean(lr.feature.mfcc(y=X, sr=sample_rate, n_mfcc=40).T, axis=0)\n",
    "        result = np.hstack((result, mfccs))\n",
    "    if chroma:\n",
    "        chroma = np.mean(lr.feature.chroma_stft(S=lr.feature.melspectrogram(y=X, sr=sample_rate)).T, axis=0)\n",
    "        result = np.hstack((result, chroma))\n",
    "    if mel:\n",
    "        mel = np.mean(lr.feature.melspectrogram(y=X, sr=sample_rate).T, axis=0)\n",
    "        result = np.hstack((result, mel))\n",
    "    return result\n"
   ]
  },
  {
   "cell_type": "code",
   "execution_count": null,
   "metadata": {
    "colab": {
     "background_save": true
    },
    "id": "vZwCd7XI0j4j"
   },
   "outputs": [],
   "source": [
    "#Emotions in the RAVDESS dataset to be classified Audio Files based on .\n",
    "emotions={\n",
    "  '01':'neutral',\n",
    "  '02':'calm',\n",
    "  '03':'happy',\n",
    "  '04':'sad',\n",
    "  '05':'angry',\n",
    "  '06':'fearful',\n",
    "  '07':'disgust',\n",
    "  '08':'surprised'\n",
    "}\n",
    "#These are the emotions User wants to observe more :\n",
    "observed_emotions=['calm', 'happy', 'fearful', 'disgust']"
   ]
  },
  {
   "cell_type": "code",
   "execution_count": null,
   "metadata": {
    "colab": {
     "background_save": true
    },
    "id": "PbZzjlVX0j4j"
   },
   "outputs": [],
   "source": [
    "\n",
    "#Load the data and extract features for each sound file\n",
    "from glob import glob\n",
    "import os\n",
    "import glob\n",
    "def load_data(test_size=0.33):\n",
    "    x,y=[],[]\n",
    "    answer = 0\n",
    "    for file in glob.glob('/content/drive/MyDrive/Speech_Emotion_Detection-master/clean_speech//*.wav'):\n",
    "        file_name=os.path.basename(file)\n",
    "        emotion = emotions[file_name.split(\"-\")[2]]  # Use index 0 instead of 1\n",
    "\n",
    "\n",
    "        if emotion not in observed_emotions:\n",
    "            answer += 1\n",
    "            continue\n",
    "        feature=extract_feature(file, mfcc=True, chroma=True, mel=True)\n",
    "        x.append(feature)\n",
    "        y.append([emotion,file_name])\n",
    "    return train_test_split(np.array(x), y, test_size=test_size, random_state=9)"
   ]
  },
  {
   "cell_type": "code",
   "execution_count": null,
   "metadata": {
    "id": "W697a-WL0j4j"
   },
   "outputs": [],
   "source": [
    "#Split the dataset\n",
    "import librosa\n",
    "import numpy as np\n",
    "x_train,x_test,y_trai,y_tes=load_data(test_size=0.25)\n",
    "print(np.shape(x_train),np.shape(x_test), np.shape(y_trai),np.shape(y_tes))\n",
    "y_test_map = np.array(y_tes).T\n",
    "y_test = y_test_map[0]\n",
    "test_filename = y_test_map[1]\n",
    "y_train_map = np.array(y_trai).T\n",
    "y_train = y_train_map[0]\n",
    "train_filename = y_train_map[1]\n",
    "print(np.shape(y_train),np.shape(y_test))\n",
    "print(*test_filename,sep=\"\\n\")"
   ]
  },
  {
   "cell_type": "code",
   "execution_count": null,
   "metadata": {
    "colab": {
     "background_save": true
    },
    "id": "hJKnPoqo0j4k"
   },
   "outputs": [],
   "source": [
    "\n",
    "# Initialize the Multi Layer Perceptron Classifier\n",
    "model_mlp=MLPClassifier(alpha=0.01, batch_size=256, epsilon=1e-08, hidden_layer_sizes=(300,), learning_rate='adaptive', max_iter=500)"
   ]
  },
  {
   "cell_type": "code",
   "execution_count": null,
   "metadata": {
    "colab": {
     "background_save": true
    },
    "id": "wfFIV22J0j4k",
    "outputId": "0470c53d-3717-4124-895a-87688db665c4"
   },
   "outputs": [
    {
     "data": {
      "text/html": [
       "<style>#sk-container-id-1 {color: black;background-color: white;}#sk-container-id-1 pre{padding: 0;}#sk-container-id-1 div.sk-toggleable {background-color: white;}#sk-container-id-1 label.sk-toggleable__label {cursor: pointer;display: block;width: 100%;margin-bottom: 0;padding: 0.3em;box-sizing: border-box;text-align: center;}#sk-container-id-1 label.sk-toggleable__label-arrow:before {content: \"▸\";float: left;margin-right: 0.25em;color: #696969;}#sk-container-id-1 label.sk-toggleable__label-arrow:hover:before {color: black;}#sk-container-id-1 div.sk-estimator:hover label.sk-toggleable__label-arrow:before {color: black;}#sk-container-id-1 div.sk-toggleable__content {max-height: 0;max-width: 0;overflow: hidden;text-align: left;background-color: #f0f8ff;}#sk-container-id-1 div.sk-toggleable__content pre {margin: 0.2em;color: black;border-radius: 0.25em;background-color: #f0f8ff;}#sk-container-id-1 input.sk-toggleable__control:checked~div.sk-toggleable__content {max-height: 200px;max-width: 100%;overflow: auto;}#sk-container-id-1 input.sk-toggleable__control:checked~label.sk-toggleable__label-arrow:before {content: \"▾\";}#sk-container-id-1 div.sk-estimator input.sk-toggleable__control:checked~label.sk-toggleable__label {background-color: #d4ebff;}#sk-container-id-1 div.sk-label input.sk-toggleable__control:checked~label.sk-toggleable__label {background-color: #d4ebff;}#sk-container-id-1 input.sk-hidden--visually {border: 0;clip: rect(1px 1px 1px 1px);clip: rect(1px, 1px, 1px, 1px);height: 1px;margin: -1px;overflow: hidden;padding: 0;position: absolute;width: 1px;}#sk-container-id-1 div.sk-estimator {font-family: monospace;background-color: #f0f8ff;border: 1px dotted black;border-radius: 0.25em;box-sizing: border-box;margin-bottom: 0.5em;}#sk-container-id-1 div.sk-estimator:hover {background-color: #d4ebff;}#sk-container-id-1 div.sk-parallel-item::after {content: \"\";width: 100%;border-bottom: 1px solid gray;flex-grow: 1;}#sk-container-id-1 div.sk-label:hover label.sk-toggleable__label {background-color: #d4ebff;}#sk-container-id-1 div.sk-serial::before {content: \"\";position: absolute;border-left: 1px solid gray;box-sizing: border-box;top: 0;bottom: 0;left: 50%;z-index: 0;}#sk-container-id-1 div.sk-serial {display: flex;flex-direction: column;align-items: center;background-color: white;padding-right: 0.2em;padding-left: 0.2em;position: relative;}#sk-container-id-1 div.sk-item {position: relative;z-index: 1;}#sk-container-id-1 div.sk-parallel {display: flex;align-items: stretch;justify-content: center;background-color: white;position: relative;}#sk-container-id-1 div.sk-item::before, #sk-container-id-1 div.sk-parallel-item::before {content: \"\";position: absolute;border-left: 1px solid gray;box-sizing: border-box;top: 0;bottom: 0;left: 50%;z-index: -1;}#sk-container-id-1 div.sk-parallel-item {display: flex;flex-direction: column;z-index: 1;position: relative;background-color: white;}#sk-container-id-1 div.sk-parallel-item:first-child::after {align-self: flex-end;width: 50%;}#sk-container-id-1 div.sk-parallel-item:last-child::after {align-self: flex-start;width: 50%;}#sk-container-id-1 div.sk-parallel-item:only-child::after {width: 0;}#sk-container-id-1 div.sk-dashed-wrapped {border: 1px dashed gray;margin: 0 0.4em 0.5em 0.4em;box-sizing: border-box;padding-bottom: 0.4em;background-color: white;}#sk-container-id-1 div.sk-label label {font-family: monospace;font-weight: bold;display: inline-block;line-height: 1.2em;}#sk-container-id-1 div.sk-label-container {text-align: center;}#sk-container-id-1 div.sk-container {/* jupyter's `normalize.less` sets `[hidden] { display: none; }` but bootstrap.min.css set `[hidden] { display: none !important; }` so we also need the `!important` here to be able to override the default hidden behavior on the sphinx rendered scikit-learn.org. See: https://github.com/scikit-learn/scikit-learn/issues/21755 */display: inline-block !important;position: relative;}#sk-container-id-1 div.sk-text-repr-fallback {display: none;}</style><div id=\"sk-container-id-1\" class=\"sk-top-container\"><div class=\"sk-text-repr-fallback\"><pre>MLPClassifier(alpha=0.01, batch_size=256, hidden_layer_sizes=(300,),\n",
       "              learning_rate=&#x27;adaptive&#x27;, max_iter=500)</pre><b>In a Jupyter environment, please rerun this cell to show the HTML representation or trust the notebook. <br />On GitHub, the HTML representation is unable to render, please try loading this page with nbviewer.org.</b></div><div class=\"sk-container\" hidden><div class=\"sk-item\"><div class=\"sk-estimator sk-toggleable\"><input class=\"sk-toggleable__control sk-hidden--visually\" id=\"sk-estimator-id-1\" type=\"checkbox\" checked><label for=\"sk-estimator-id-1\" class=\"sk-toggleable__label sk-toggleable__label-arrow\">MLPClassifier</label><div class=\"sk-toggleable__content\"><pre>MLPClassifier(alpha=0.01, batch_size=256, hidden_layer_sizes=(300,),\n",
       "              learning_rate=&#x27;adaptive&#x27;, max_iter=500)</pre></div></div></div></div></div>"
      ],
      "text/plain": [
       "MLPClassifier(alpha=0.01, batch_size=256, hidden_layer_sizes=(300,),\n",
       "              learning_rate='adaptive', max_iter=500)"
      ]
     },
     "execution_count": 17,
     "metadata": {},
     "output_type": "execute_result"
    }
   ],
   "source": [
    "#Train the model\n",
    "model_mlp.fit(x_train,y_train)"
   ]
  },
  {
   "cell_type": "code",
   "execution_count": null,
   "metadata": {
    "id": "C0AxrFpeQelo"
   },
   "outputs": [],
   "source": []
  },
  {
   "cell_type": "code",
   "execution_count": null,
   "metadata": {
    "id": "cdhCkpmm0j4l"
   },
   "outputs": [],
   "source": [
    "#The file 'output10.wav' in the next cell is the file that was recorded live using the code :\n",
    "data, sampling_rate = librosa.load('/content/drive/MyDrive/Speech_Emotion_Detection-master/output102.wav')\n",
    "%matplotlib inline\n",
    "import os\n",
    "import pandas as pd\n",
    "import librosa.display\n",
    "import glob\n",
    "\n",
    "plt.figure(figsize=(15, 5))\n",
    "librosa.display.waveshow(data, sr=sampling_rate)"
   ]
  },
  {
   "cell_type": "code",
   "execution_count": null,
   "metadata": {
    "id": "L7KhTi2x0j4l"
   },
   "outputs": [],
   "source": [
    "#Now Cleaning Step is Performed where:\n",
    "#DOWN SAMPLING OF AUDIO FILES IS DONE  AND PUT MASK OVER IT AND DIRECT INTO CLEAN FOLDER\n",
    "#MASK IS TO REMOVE UNNECESSARY EMPTY VOIVES AROUND THE MAIN AUDIO VOICE\n",
    "def envelope(y , rate, threshold):\n",
    "    mask=[]\n",
    "    y=pd.Series(y).apply(np.abs)\n",
    "    y_mean = y.rolling(window=int(rate/10) ,  min_periods=1 , center = True).mean()\n",
    "    for mean in y_mean:\n",
    "        if mean>threshold:\n",
    "            mask.append(True)\n",
    "        else:\n",
    "            mask.append(False)\n",
    "    return mask"
   ]
  },
  {
   "cell_type": "code",
   "execution_count": null,
   "metadata": {
    "id": "ONz3Rx750j4l"
   },
   "outputs": [],
   "source": [
    "#The clean Audio Files are redirected to Clean Audio Folder Directory\n",
    "import glob,pickle\n",
    "file = '/content/drive/MyDrive/Speech_Emotion_Detection-master/output102.wav'\n",
    "file_name = os.path.basename(file)\n",
    "signal , rate = librosa.load(file, sr=16000)\n",
    "mask = envelope(signal,rate, 0.0005)\n",
    "wavfile.write(filename= r'C:\\Users\\shiny\\Documents\\Speech_Emotion_Detection-master\\clean_speech1\\\\'+str(file_name), rate=rate,data=signal[mask])"
   ]
  },
  {
   "cell_type": "code",
   "execution_count": null,
   "metadata": {
    "id": "jzHWhFyO0j4l"
   },
   "outputs": [],
   "source": [
    "## Appying extract_feature function on random file and then loading model to predict the result\n",
    "file = '/content/drive/MyDrive/Speech_Emotion_Detection-master/output102.wav'\n",
    "# data , sr = librosa.load(file)\n",
    "# data = np.array(data)\n",
    "ans =[]\n",
    "new_feature = extract_feature(file, mfcc=True, chroma=True, mel=True)\n",
    "ans.append(new_feature)\n",
    "ans = np.array(ans)\n",
    "# data.shape\n",
    "\n",
    "Emotion_Voice_Detection_Model.predict(ans)"
   ]
  },
  {
   "cell_type": "markdown",
   "metadata": {
    "id": "LL-aoeMzVZ8I"
   },
   "source": []
  },
  {
   "cell_type": "code",
   "execution_count": null,
   "metadata": {
    "id": "lR1hzbIeUlR7"
   },
   "outputs": [],
   "source": [
    "from sklearn.neural_network import MLPClassifier\n",
    "from sklearn.metrics import accuracy_score, log_loss\n",
    "\n",
    "# Create an instance of MLPClassifier\n",
    "mlp = MLPClassifier(hidden_layer_sizes=(100, 100), max_iter=100)\n",
    "\n",
    "# Train the model\n",
    "mlp.fit(x_train, y_train)\n",
    "\n",
    "# Make predictions on the test set\n",
    "y_pred = mlp.predict(x_test)\n",
    "\n",
    "# Calculate accuracy\n",
    "accuracy = accuracy_score(y_test, y_pred)\n",
    "print(\"Accuracy:\", accuracy)\n",
    "\n",
    "# Calculate loss (cross-entropy loss)\n",
    "loss = log_loss(y_test, mlp.predict_proba(x_test))\n",
    "print(\"Loss:\", loss)"
   ]
  },
  {
   "cell_type": "code",
   "execution_count": null,
   "metadata": {
    "colab": {
     "base_uri": "https://localhost:8080/"
    },
    "id": "EPBASnRow1EZ",
    "outputId": "976672e4-a9a9-4a71-af42-1822858221bc"
   },
   "outputs": [
    {
     "name": "stdout",
     "output_type": "stream",
     "text": [
      "Metrics of MLPClassifier\n",
      "Accuracy: 0.65625\n",
      "Precision: 0.6737711180303293\n",
      "Recall: 0.65625\n",
      "F1 Score: 0.658151936846361\n"
     ]
    }
   ],
   "source": [
    "from sklearn.metrics import accuracy_score, precision_score, recall_score, f1_score\n",
    "\n",
    "# Calculate accuracy\n",
    "accuracy = accuracy_score(y_test, y_pred)\n",
    "\n",
    "# Calculate precision, recall, and F1 score\n",
    "precision = precision_score(y_test, y_pred, average='weighted', labels=observed_emotions)\n",
    "recall = recall_score(y_test, y_pred, average='weighted', labels=observed_emotions)\n",
    "f1 = f1_score(y_test, y_pred, average='weighted', labels=observed_emotions)\n",
    "\n",
    "# Print the metrics\n",
    "print(\"Metrics of MLPClassifier\")\n",
    "print(f'Accuracy: {accuracy}')\n",
    "print(f'Precision: {precision}')\n",
    "print(f'Recall: {recall}')\n",
    "print(f'F1 Score: {f1}')\n"
   ]
  },
  {
   "cell_type": "code",
   "execution_count": null,
   "metadata": {
    "colab": {
     "base_uri": "https://localhost:8080/",
     "height": 472
    },
    "id": "QshD6XhT3dR2",
    "outputId": "dca333cc-4f97-4a46-d341-dd607364afc9"
   },
   "outputs": [
    {
     "data": {
      "image/png": "[encoded data removed]",
      "text/plain": [
       "<Figure size 640x480 with 2 Axes>"
      ]
     },
     "metadata": {},
     "output_type": "display_data"
    }
   ],
   "source": [
    "import seaborn as sns\n",
    "import matplotlib.pyplot as plt\n",
    "from sklearn.metrics import confusion_matrix\n",
    "\n",
    "# Calculate confusion matrix\n",
    "cm_mlp = confusion_matrix(y_test, y_pred, labels=observed_emotions)\n",
    "\n",
    "# Define labels for the confusion matrix\n",
    "labels = observed_emotions\n",
    "\n",
    "# Create a heatmap for the confusion matrix\n",
    "sns.heatmap(cm_mlp, annot=True, cmap='Blues', fmt='d', xticklabels=labels, yticklabels=labels)\n",
    "\n",
    "# Add labels, title, and axis ticks\n",
    "plt.xlabel('Predicted Emotion')\n",
    "plt.ylabel('True Emotion')\n",
    "plt.title('Confusion Matrix of MLP')\n",
    "plt.xticks(ticks=np.arange(len(labels)), labels=labels)\n",
    "plt.yticks(ticks=np.arange(len(labels)), labels=labels)\n",
    "\n",
    "# Display the confusion matrix\n",
    "plt.show()\n",
    "\n"
   ]
  },
  {
   "cell_type": "code",
   "execution_count": null,
   "metadata": {
    "colab": {
     "base_uri": "https://localhost:8080/"
    },
    "id": "oFAmv6h_Txs4",
    "outputId": "56aba29f-8364-4898-eef3-09457f52766b"
   },
   "outputs": [
    {
     "name": "stdout",
     "output_type": "stream",
     "text": [
      "Looking in indexes: https://pypi.org/simple, https://us-python.pkg.dev/colab-wheels/public/simple/\n",
      "Collecting praat-parselmouth\n",
      "  Downloading praat_parselmouth-0.4.3-cp310-cp310-manylinux_2_12_x86_64.manylinux2010_x86_64.whl (10.7 MB)\n",
      "\u001b[2K     \u001b[90m━━━━━━━━━━━━━━━━━━━━━━━━━━━━━━━━━━━━━━━━\u001b[0m \u001b[32m10.7/10.7 MB\u001b[0m \u001b[31m98.8 MB/s\u001b[0m eta \u001b[36m0:00:00\u001b[0m\n",
      "\u001b[?25hRequirement already satisfied: numpy>=1.7.0 in /usr/local/lib/python3.10/dist-packages (from praat-parselmouth) (1.22.4)\n",
      "Installing collected packages: praat-parselmouth\n",
      "Successfully installed praat-parselmouth-0.4.3\n"
     ]
    }
   ],
   "source": [
    "pip install praat-parselmouth\n"
   ]
  },
  {
   "cell_type": "code",
   "execution_count": null,
   "metadata": {
    "colab": {
     "base_uri": "https://localhost:8080/"
    },
    "id": "XmkpVVpI0j4l",
    "outputId": "03d755a3-d47c-40a0-92c0-e0ac493b0812"
   },
   "outputs": [
    {
     "name": "stdout",
     "output_type": "stream",
     "text": [
      "Average Pitch: 205.93804300488426\n",
      "Pitch Range: 483.2884430612861\n",
      "Average Intensity: 54.601230414072624\n",
      "Intensity Range: 48.656858207442625\n",
      "Total Duration: 2.0893749487998687\n"
     ]
    }
   ],
   "source": [
    "import parselmouth\n",
    "\n",
    "def extract_pitch(audio_file):\n",
    "    snd = parselmouth.Sound(audio_file)\n",
    "    pitch = snd.to_pitch()\n",
    "    pitch_values = pitch.selected_array['frequency']\n",
    "    average_pitch = pitch_values.mean()\n",
    "    pitch_range = pitch_values.max() - pitch_values.min()\n",
    "    return average_pitch, pitch_range\n",
    "\n",
    "def extract_intensity(audio_file):\n",
    "    snd = parselmouth.Sound(audio_file)\n",
    "    intensity = snd.to_intensity()\n",
    "    average_intensity = intensity.values.mean()\n",
    "    intensity_range = intensity.values.max() - intensity.values.min()\n",
    "    return average_intensity, intensity_range\n",
    "\n",
    "def extract_duration(audio_file):\n",
    "    snd = parselmouth.Sound(audio_file)\n",
    "    total_duration = snd.get_total_duration()\n",
    "    return total_duration\n",
    "\n",
    "# Example usage\n",
    "audio_file = '/content/drive/MyDrive/Speech_Emotion_Detection-master/output103.wav'\n",
    "average_pitch, pitch_range = extract_pitch(audio_file)\n",
    "average_intensity, intensity_range = extract_intensity(audio_file)\n",
    "total_duration = extract_duration(audio_file)\n",
    "\n",
    "print(\"Average Pitch:\", average_pitch)\n",
    "print(\"Pitch Range:\", pitch_range)\n",
    "print(\"Average Intensity:\", average_intensity)\n",
    "print(\"Intensity Range:\", intensity_range)\n",
    "print(\"Total Duration:\", total_duration)\n"
   ]
  },
  {
   "cell_type": "code",
   "execution_count": null,
   "metadata": {
    "id": "RgsBcQm90j4m"
   },
   "outputs": [],
   "source": []
  },
  {
   "cell_type": "code",
   "execution_count": null,
   "metadata": {
    "colab": {
     "base_uri": "https://localhost:8080/"
    },
    "id": "5c9456IG0j4m",
    "outputId": "fc0e370b-c396-4606-c9f5-2357d988ddc6"
   },
   "outputs": [
    {
     "name": "stdout",
     "output_type": "stream",
     "text": [
      "MFCC shape: (20, 90)\n",
      "Chroma shape: (12, 90)\n",
      "Mel shape: (128, 90)\n"
     ]
    }
   ],
   "source": [
    "import librosa\n",
    "\n",
    "def extract_mfcc(audio_file):\n",
    "    y, sr = librosa.load(audio_file)\n",
    "    mfcc = librosa.feature.mfcc(y=y, sr=sr)\n",
    "    return mfcc\n",
    "\n",
    "def extract_chroma(audio_file):\n",
    "    y, sr = librosa.load(audio_file)\n",
    "    chroma = librosa.feature.chroma_stft(y=y, sr=sr)\n",
    "    return chroma\n",
    "\n",
    "def extract_mel(audio_file):\n",
    "    y, sr = librosa.load(audio_file)\n",
    "    mel = librosa.feature.melspectrogram(y=y, sr=sr)\n",
    "    return mel\n",
    "\n",
    "# Example usage\n",
    "audio_file = '/content/drive/MyDrive/Speech_Emotion_Detection-master/output103.wav'\n",
    "mfcc = extract_mfcc(audio_file)\n",
    "chroma = extract_chroma(audio_file)\n",
    "mel = extract_mel(audio_file)\n",
    "\n",
    "print(\"MFCC shape:\", mfcc.shape)\n",
    "print(\"Chroma shape:\", chroma.shape)\n",
    "print(\"Mel shape:\", mel.shape)\n"
   ]
  },
  {
   "cell_type": "code",
   "execution_count": null,
   "metadata": {
    "colab": {
     "base_uri": "https://localhost:8080/"
    },
    "id": "qDLPCon50j4m",
    "outputId": "303a2679-3070-4d2e-9a04-4707fcf0beea"
   },
   "outputs": [
    {
     "name": "stdout",
     "output_type": "stream",
     "text": [
      "Accuracy: 0.5677083333333334\n"
     ]
    }
   ],
   "source": [
    "from sklearn.svm import SVC\n",
    "from sklearn.model_selection import train_test_split\n",
    "from sklearn.metrics import accuracy_score\n",
    "\n",
    "# Initialize the SVM classifier\n",
    "svm_model = SVC(kernel='rbf')\n",
    "\n",
    "# Train the model\n",
    "svm_model.fit(x_train, y_train)\n",
    "\n",
    "# Make predictions on the test set\n",
    "y_pred_mlp = svm_model.predict(x_test)\n",
    "\n",
    "# Calculate the accuracy of the model\n",
    "accuracy = accuracy_score(y_test, y_pred_mlp)\n",
    "print(\"Accuracy:\", accuracy)\n"
   ]
  },
  {
   "cell_type": "code",
   "execution_count": null,
   "metadata": {
    "colab": {
     "base_uri": "https://localhost:8080/"
    },
    "id": "zzekkDBvQU5F",
    "outputId": "f9b01b2a-6c82-4e07-f461-776450f7d76e"
   },
   "outputs": [
    {
     "name": "stdout",
     "output_type": "stream",
     "text": [
      "Metrics of SVM\n",
      "Accuracy: 0.5677083333333334\n",
      "Precision: 0.5926170738200813\n",
      "Recall: 0.5677083333333334\n",
      "F1-score: 0.5546429003808938\n"
     ]
    }
   ],
   "source": [
    "from sklearn.metrics import accuracy_score, precision_score, recall_score, f1_score\n",
    "\n",
    "# Calculate accuracy\n",
    "accuracy = accuracy_score(y_test, y_pred_mlp)\n",
    "\n",
    "# Calculate precision\n",
    "precision = precision_score(y_test, y_pred_mlp, average='weighted')\n",
    "\n",
    "# Calculate recall\n",
    "recall = recall_score(y_test, y_pred_mlp, average='weighted')\n",
    "\n",
    "# Calculate F1-score\n",
    "f1 = f1_score(y_test, y_pred_mlp, average='weighted')\n",
    "\n",
    "# Print the results\n",
    "print(\"Metrics of SVM\")\n",
    "print(\"Accuracy:\", accuracy)\n",
    "print(\"Precision:\", precision)\n",
    "print(\"Recall:\", recall)\n",
    "print(\"F1-score:\", f1)\n"
   ]
  },
  {
   "cell_type": "code",
   "execution_count": null,
   "metadata": {
    "colab": {
     "base_uri": "https://localhost:8080/",
     "height": 407
    },
    "id": "w7H8iJRalBKf",
    "outputId": "4edf08a6-a7e5-4d76-807d-e22667007fd4"
   },
   "outputs": [
    {
     "data": {
      "image/png": "[encoded data removed]",
      "text/plain": [
       "<Figure size 600x400 with 2 Axes>"
      ]
     },
     "metadata": {},
     "output_type": "display_data"
    }
   ],
   "source": [
    "import matplotlib.pyplot as plt\n",
    "import seaborn as sns\n",
    "from sklearn.metrics import confusion_matrix\n",
    "\n",
    "# Compute the confusion matrix\n",
    "cm = confusion_matrix(y_test, y_pred_mlp)\n",
    "\n",
    "# Get the class labels\n",
    "class_labels = sorted(set(y_test))\n",
    "\n",
    "# Create a figure and axes\n",
    "plt.figure(figsize=(6,4))\n",
    "ax = plt.subplot()\n",
    "\n",
    "# Create the confusion matrix heatmap\n",
    "sns.heatmap(cm, annot=True, fmt=\"d\", cmap=\"Blues\", ax=ax)\n",
    "\n",
    "# Set labels, title, and ticks\n",
    "ax.set_xlabel(\"Predicted labels\")\n",
    "ax.set_ylabel(\"True labels\")\n",
    "ax.set_title(\"Confusion Matrix for SVM\")\n",
    "ax.xaxis.set_ticklabels(class_labels)\n",
    "ax.yaxis.set_ticklabels(class_labels)\n",
    "\n",
    "# Rotate tick labels for better readability\n",
    "plt.xticks(rotation=45)\n",
    "plt.yticks(rotation=0)\n",
    "\n",
    "# Show the plot\n",
    "plt.tight_layout()\n",
    "plt.show()\n"
   ]
  },
  {
   "cell_type": "code",
   "execution_count": null,
   "metadata": {
    "colab": {
     "base_uri": "https://localhost:8080/"
    },
    "id": "0-4BxSxUUO9y",
    "outputId": "ff6cfbf4-95d0-4b1a-f1c3-872fd0a7a106"
   },
   "outputs": [
    {
     "name": "stdout",
     "output_type": "stream",
     "text": [
      "Looking in indexes: https://pypi.org/simple, https://us-python.pkg.dev/colab-wheels/public/simple/\n",
      "Collecting hmmlearn\n",
      "  Downloading hmmlearn-0.3.0-cp310-cp310-manylinux_2_17_x86_64.manylinux2014_x86_64.whl (160 kB)\n",
      "\u001b[2K     \u001b[90m━━━━━━━━━━━━━━━━━━━━━━━━━━━━━━━━━━━━━━\u001b[0m \u001b[32m160.4/160.4 kB\u001b[0m \u001b[31m15.0 MB/s\u001b[0m eta \u001b[36m0:00:00\u001b[0m\n",
      "\u001b[?25hRequirement already satisfied: numpy>=1.10 in /usr/local/lib/python3.10/dist-packages (from hmmlearn) (1.22.4)\n",
      "Requirement already satisfied: scikit-learn!=0.22.0,>=0.16 in /usr/local/lib/python3.10/dist-packages (from hmmlearn) (1.2.2)\n",
      "Requirement already satisfied: scipy>=0.19 in /usr/local/lib/python3.10/dist-packages (from hmmlearn) (1.10.1)\n",
      "Requirement already satisfied: joblib>=1.1.1 in /usr/local/lib/python3.10/dist-packages (from scikit-learn!=0.22.0,>=0.16->hmmlearn) (1.2.0)\n",
      "Requirement already satisfied: threadpoolctl>=2.0.0 in /usr/local/lib/python3.10/dist-packages (from scikit-learn!=0.22.0,>=0.16->hmmlearn) (3.1.0)\n",
      "Installing collected packages: hmmlearn\n",
      "Successfully installed hmmlearn-0.3.0\n"
     ]
    }
   ],
   "source": [
    "pip install hmmlearn"
   ]
  },
  {
   "cell_type": "code",
   "execution_count": null,
   "metadata": {
    "colab": {
     "base_uri": "https://localhost:8080/"
    },
    "id": "Z_Y3xD9DUCk3",
    "outputId": "10d487e5-9fec-419a-9d82-a9f1e4f0bd66"
   },
   "outputs": [
    {
     "name": "stdout",
     "output_type": "stream",
     "text": [
      "Predicted emotions: ['calm' 'calm' 'calm' 'calm' 'calm' 'fearful' 'fearful' 'fearful'\n",
      " 'fearful' 'fearful' 'fearful' 'fearful' 'fearful' 'fearful' 'fearful'\n",
      " 'fearful' 'fearful' 'fearful' 'fearful' 'neutral' 'surprised' 'neutral'\n",
      " 'surprised' 'sad' 'sad' 'sad' 'sad' 'sad' 'sad' 'sad' 'surprised' 'angry'\n",
      " 'angry' 'angry' 'angry' 'angry' 'angry' 'angry' 'angry' 'angry' 'fearful'\n",
      " 'fearful' 'fearful' 'fearful' 'fearful' 'fearful' 'fearful' 'fearful'\n",
      " 'fearful' 'angry' 'angry' 'angry' 'angry' 'angry' 'angry' 'angry' 'angry'\n",
      " 'angry' 'angry' 'neutral' 'surprised' 'neutral' 'surprised' 'sad' 'sad'\n",
      " 'sad']\n"
     ]
    }
   ],
   "source": [
    "import os\n",
    "import numpy as np\n",
    "from hmmlearn import hmm\n",
    "from sklearn.preprocessing import LabelEncoder\n",
    "import librosa\n",
    "\n",
    "# Path to the RAVDESS dataset\n",
    "dataset_path = \"/content/drive/MyDrive/Speech_Emotion_Detection-master/speech-emotion-recognition-ravdess-data\"\n",
    "\n",
    "# List of emotions in the RAVDESS dataset\n",
    "emotions = {\n",
    "    \"01\": \"neutral\",\n",
    "    \"02\": \"calm\",\n",
    "    \"03\": \"happy\",\n",
    "    \"04\": \"sad\",\n",
    "    \"05\": \"angry\",\n",
    "    \"06\": \"fearful\",\n",
    "    \"07\": \"disgust\",\n",
    "    \"08\": \"surprised\"\n",
    "}\n",
    "\n",
    "# Function to extract features from audio files\n",
    "def extract_features(file_path):\n",
    "    audio, _ = librosa.load(file_path, duration=2.5, offset=0.5)\n",
    "    mfccs = librosa.feature.mfcc(y=audio, sr=22050, n_mfcc=13)\n",
    "    return mfccs.T\n",
    "\n",
    "# Load audio files and extract features\n",
    "X = []\n",
    "y = []\n",
    "lengths = []\n",
    "for root, dirs, files in os.walk(dataset_path):\n",
    "    for file in files:\n",
    "        if file.endswith(\".wav\"):\n",
    "            file_path = os.path.join(root, file)\n",
    "            emotion = emotions[file.split(\"-\")[2]]\n",
    "            features = extract_features(file_path)\n",
    "            X.append(features)\n",
    "            y.append(emotion)\n",
    "            lengths.append(features.shape[0])\n",
    "\n",
    "# Convert the data to numpy arrays\n",
    "X = np.concatenate(X)\n",
    "y = np.array(y)\n",
    "\n",
    "# Encode emotion labels as integers\n",
    "label_encoder = LabelEncoder()\n",
    "y_encoded = label_encoder.fit_transform(y)\n",
    "\n",
    "def create_HMM_model(X, y, n_components):\n",
    "    model = hmm.GaussianHMM(n_components=n_components, covariance_type=\"diag\")\n",
    "    model.fit(X, lengths)  # Fit the model\n",
    "    return model\n",
    "\n",
    "# Create an HMM model\n",
    "model = create_HMM_model(X, y_encoded, n_components=len(emotions))\n",
    "\n",
    "# Predict the hidden states for a new input\n",
    "new_features = extract_features(\"/content/drive/MyDrive/Speech_Emotion_Detection-master/output102.wav\")\n",
    "predicted_states = model.predict(new_features)\n",
    "\n",
    "# Map the predicted states back to emotion labels\n",
    "predicted_emotions = label_encoder.inverse_transform(predicted_states)\n",
    "\n",
    "# Print the predicted emotions\n",
    "print(\"Predicted emotions:\", predicted_emotions)\n"
   ]
  },
  {
   "cell_type": "code",
   "execution_count": null,
   "metadata": {
    "colab": {
     "base_uri": "https://localhost:8080/"
    },
    "id": "mjcv95UPhkvv",
    "outputId": "2675ed5f-b6dd-4b26-f5f0-60423201b1ca"
   },
   "outputs": [
    {
     "name": "stdout",
     "output_type": "stream",
     "text": [
      "Metrics of HMM\n",
      "Accuracy: 0.13273106323835998\n",
      "Precision: 0.048670313904896054\n",
      "Recall: 0.13273106323835998\n",
      "F1-Score: 0.036547924230178566\n",
      "Confusion Matrix:\n"
     ]
    },
    {
     "name": "stderr",
     "output_type": "stream",
     "text": [
      "/usr/local/lib/python3.10/dist-packages/sklearn/metrics/_classification.py:1344: UndefinedMetricWarning: Precision is ill-defined and being set to 0.0 in labels with no predicted samples. Use `zero_division` parameter to control this behavior.\n",
      "  _warn_prf(average, modifier, msg_start, len(result))\n"
     ]
    }
   ],
   "source": [
    "from sklearn.metrics import accuracy_score, precision_score, recall_score, f1_score\n",
    "\n",
    "# Convert the ground truth labels to integers\n",
    "y_true_encoded = label_encoder.transform(y)\n",
    "\n",
    "# Pad the predicted states to match the length of y_true_encoded\n",
    "if len(predicted_states) < len(y_true_encoded):\n",
    "    padding = np.zeros(len(y_true_encoded) - len(predicted_states), dtype=int)\n",
    "    predicted_states = np.concatenate([predicted_states, padding])\n",
    "\n",
    "# Trim y_true_encoded to match the length of predicted_states\n",
    "if len(y_true_encoded) > len(predicted_states):\n",
    "    y_true_encoded = y_true_encoded[:len(predicted_states)]\n",
    "\n",
    "# Calculate accuracy\n",
    "accuracy = accuracy_score(y_true_encoded, predicted_states)\n",
    "\n",
    "# Calculate precision, recall, and F1-score\n",
    "precision = precision_score(y_true_encoded, predicted_states, average='weighted')\n",
    "recall = recall_score(y_true_encoded, predicted_states, average='weighted')\n",
    "f1 = f1_score(y_true_encoded, predicted_states, average='weighted')\n",
    "\n",
    "\n",
    "\n",
    "# Print the metrics\n",
    "print(\"Metrics of HMM\")\n",
    "print(\"Accuracy:\", accuracy)\n",
    "print(\"Precision:\", precision)\n",
    "print(\"Recall:\", recall)\n",
    "print(\"F1-Score:\", f1)\n",
    "print(\"Confusion Matrix:\")\n",
    "\n"
   ]
  },
  {
   "cell_type": "code",
   "execution_count": null,
   "metadata": {
    "colab": {
     "base_uri": "https://localhost:8080/",
     "height": 564
    },
    "id": "BnuHQgeikhJS",
    "outputId": "0708da7b-4ff0-455a-a2e2-9cf21c40c97e"
   },
   "outputs": [
    {
     "data": {
      "image/png": "[encoded data removed]",
      "text/plain": [
       "<Figure size 800x600 with 2 Axes>"
      ]
     },
     "metadata": {},
     "output_type": "display_data"
    }
   ],
   "source": [
    "import matplotlib.pyplot as plt\n",
    "import seaborn as sns\n",
    "\n",
    "# Define the emotion labels for display\n",
    "emotion_labels = list(emotions.values())\n",
    "\n",
    "# Create a confusion matrix heatmap\n",
    "plt.figure(figsize=(8,6))\n",
    "sns.heatmap(confusion_mat, annot=True, fmt=\"d\", xticklabels=emotion_labels, yticklabels=emotion_labels, cmap=\"Blues\")\n",
    "plt.xlabel(\"Predicted\")\n",
    "plt.ylabel(\"True\")\n",
    "plt.title(\"Confusion Matrix of HMM\")\n",
    "plt.show()\n"
   ]
  },
  {
   "cell_type": "markdown",
   "metadata": {
    "id": "qxNfEGhDCz4Z"
   },
   "source": [
    "SER Using FNN"
   ]
  },
  {
   "cell_type": "code",
   "execution_count": null,
   "metadata": {
    "id": "saj5prFBUBsL"
   },
   "outputs": [],
   "source": []
  },
  {
   "cell_type": "code",
   "execution_count": null,
   "metadata": {
    "colab": {
     "background_save": true
    },
    "id": "WTFNNVeU5Ly5",
    "outputId": "083bdc81-4299-4f1d-b30e-e32451be5e65"
   },
   "outputs": [
    {
     "name": "stdout",
     "output_type": "stream",
     "text": [
      "['neutral', 'neutral', 'happy', 'angry', 'fearful', 'happy', 'calm', 'calm', 'happy', 'angry', 'fearful', 'calm', 'disgust', 'neutral', 'fearful', 'happy', 'sad', 'disgust', 'sad', 'disgust', 'sad', 'fearful', 'calm', 'disgust', 'fearful', 'sad', 'fearful', 'neutral', 'angry', 'disgust', 'disgust', 'sad', 'angry', 'disgust', 'happy', 'fearful', 'happy', 'calm', 'angry', 'calm', 'happy', 'calm', 'angry', 'sad', 'sad', 'angry', 'disgust', 'fearful', 'sad', 'happy', 'calm', 'angry', 'surprised', 'surprised', 'surprised', 'surprised', 'surprised', 'surprised', 'surprised', 'surprised', 'disgust', 'disgust', 'sad', 'happy', 'fearful', 'fearful', 'happy', 'angry', 'happy', 'fearful', 'sad', 'disgust', 'calm', 'calm', 'calm', 'sad', 'disgust', 'fearful', 'disgust', 'angry', 'calm', 'calm', 'neutral', 'disgust', 'happy', 'sad', 'angry', 'happy', 'fearful', 'angry', 'angry', 'neutral', 'neutral', 'calm', 'calm', 'calm', 'sad', 'fearful', 'sad', 'sad', 'angry', 'angry', 'fearful', 'angry', 'disgust', 'neutral', 'happy', 'happy', 'disgust', 'sad', 'happy', 'fearful', 'surprised', 'surprised', 'surprised', 'surprised', 'surprised', 'surprised', 'surprised', 'surprised', 'neutral', 'neutral', 'calm', 'calm', 'neutral', 'calm', 'neutral', 'fearful', 'disgust', 'happy', 'happy', 'fearful', 'surprised', 'sad', 'sad', 'calm', 'sad', 'angry', 'surprised', 'fearful', 'disgust', 'sad', 'angry', 'happy', 'disgust', 'sad', 'surprised', 'happy', 'calm', 'surprised', 'fearful', 'fearful', 'calm', 'happy', 'calm', 'disgust', 'disgust', 'fearful', 'disgust', 'disgust', 'surprised', 'angry', 'sad', 'calm', 'happy', 'surprised', 'angry', 'sad', 'happy', 'angry', 'happy', 'fearful', 'sad', 'angry', 'surprised', 'surprised', 'disgust', 'angry', 'fearful', 'angry', 'neutral', 'neutral', 'angry', 'calm', 'surprised', 'sad', 'surprised', 'happy', 'sad', 'fearful', 'angry', 'angry', 'happy', 'happy', 'sad', 'happy', 'surprised', 'fearful', 'disgust', 'surprised', 'angry', 'calm', 'happy', 'disgust', 'happy', 'disgust', 'fearful', 'calm', 'neutral', 'disgust', 'fearful', 'sad', 'happy', 'fearful', 'surprised', 'angry', 'sad', 'angry', 'disgust', 'surprised', 'calm', 'calm', 'calm', 'disgust', 'fearful', 'sad', 'angry', 'angry', 'sad', 'fearful', 'sad', 'calm', 'happy', 'disgust', 'surprised', 'calm', 'surprised', 'disgust', 'fearful', 'neutral', 'disgust', 'sad', 'disgust', 'angry', 'calm', 'surprised', 'sad', 'neutral', 'sad', 'disgust', 'sad', 'calm', 'fearful', 'angry', 'neutral', 'happy', 'disgust', 'happy', 'happy', 'angry', 'surprised', 'disgust', 'happy', 'fearful', 'fearful', 'calm', 'fearful', 'disgust', 'happy', 'surprised', 'sad', 'disgust', 'happy', 'disgust', 'happy', 'calm', 'sad', 'surprised', 'calm', 'neutral', 'fearful', 'sad', 'calm', 'calm', 'angry', 'happy', 'surprised', 'surprised', 'angry', 'calm', 'angry', 'fearful', 'neutral', 'surprised', 'surprised', 'fearful', 'angry', 'fearful', 'angry', 'sad', 'happy', 'calm', 'sad', 'neutral', 'surprised', 'surprised', 'sad', 'sad', 'sad', 'sad', 'disgust', 'angry', 'angry', 'angry', 'surprised', 'fearful', 'calm', 'happy', 'happy', 'disgust', 'angry', 'neutral', 'disgust', 'happy', 'fearful', 'fearful', 'fearful', 'neutral', 'neutral', 'disgust', 'sad', 'disgust', 'calm', 'calm', 'fearful', 'surprised', 'calm', 'sad', 'surprised', 'disgust', 'surprised', 'happy', 'surprised', 'fearful', 'fearful', 'angry', 'fearful', 'angry', 'sad', 'calm', 'calm', 'happy', 'angry', 'disgust', 'happy', 'calm', 'disgust', 'angry', 'happy', 'surprised', 'angry', 'fearful', 'happy', 'calm', 'happy', 'disgust', 'angry', 'angry', 'disgust', 'disgust', 'sad', 'angry', 'angry', 'fearful', 'calm', 'sad', 'fearful', 'surprised', 'happy', 'fearful', 'fearful', 'fearful', 'happy', 'sad', 'disgust', 'happy', 'neutral', 'disgust', 'disgust', 'surprised', 'neutral', 'sad', 'neutral', 'disgust', 'calm', 'calm', 'fearful', 'angry', 'disgust', 'angry', 'calm', 'calm', 'happy', 'happy', 'sad', 'angry', 'sad', 'calm', 'fearful', 'neutral', 'calm', 'sad', 'sad', 'happy', 'surprised', 'surprised', 'surprised', 'surprised', 'surprised', 'surprised', 'disgust', 'calm', 'happy', 'sad', 'happy', 'calm', 'calm', 'disgust', 'fearful', 'angry', 'disgust', 'calm', 'fearful', 'sad', 'happy', 'sad', 'sad', 'neutral', 'angry', 'fearful', 'happy', 'angry', 'fearful', 'disgust', 'angry', 'happy', 'fearful', 'calm', 'happy', 'disgust', 'calm', 'happy', 'calm', 'disgust', 'disgust', 'angry', 'calm', 'sad', 'sad', 'happy', 'fearful', 'angry', 'sad', 'sad', 'neutral', 'fearful', 'angry', 'fearful', 'angry', 'neutral', 'disgust', 'neutral', 'surprised', 'surprised', 'surprised', 'surprised', 'surprised', 'surprised', 'surprised', 'surprised', 'fearful', 'neutral', 'fearful', 'surprised', 'fearful', 'calm', 'calm', 'angry', 'angry', 'sad', 'fearful', 'sad', 'angry', 'calm', 'disgust', 'surprised', 'happy', 'sad', 'happy', 'fearful', 'angry', 'sad', 'calm', 'sad', 'calm', 'disgust', 'fearful', 'angry', 'disgust', 'fearful', 'calm', 'happy', 'surprised', 'neutral', 'happy', 'happy', 'sad', 'happy', 'fearful', 'sad', 'disgust', 'disgust', 'surprised', 'angry', 'neutral', 'neutral', 'surprised', 'calm', 'disgust', 'angry', 'sad', 'happy', 'angry', 'happy', 'disgust', 'calm', 'disgust', 'surprised', 'surprised', 'surprised', 'neutral', 'neutral', 'sad', 'sad', 'surprised', 'calm', 'calm', 'fearful', 'sad', 'disgust', 'happy', 'calm', 'surprised', 'fearful', 'angry', 'happy', 'disgust', 'fearful', 'angry', 'calm', 'happy', 'sad', 'disgust', 'calm', 'happy', 'disgust', 'sad', 'angry', 'angry', 'happy', 'sad', 'angry', 'fearful', 'disgust', 'disgust', 'happy', 'happy', 'neutral', 'angry', 'angry', 'disgust', 'happy', 'calm', 'sad', 'surprised', 'fearful', 'disgust', 'fearful', 'angry', 'calm', 'neutral', 'fearful', 'surprised', 'calm', 'sad', 'fearful', 'surprised', 'surprised', 'surprised', 'surprised', 'calm', 'calm', 'neutral', 'neutral', 'neutral', 'calm', 'calm', 'calm', 'happy', 'calm', 'calm', 'happy', 'calm', 'neutral', 'angry', 'sad', 'fearful', 'surprised', 'disgust', 'fearful', 'surprised', 'angry', 'happy', 'happy', 'surprised', 'angry', 'angry', 'happy', 'surprised', 'angry', 'surprised', 'sad', 'surprised', 'fearful', 'disgust', 'disgust', 'angry', 'sad', 'happy', 'sad', 'disgust', 'surprised', 'angry', 'fearful', 'fearful', 'disgust', 'sad', 'sad', 'happy', 'fearful', 'angry', 'happy', 'sad', 'fearful', 'disgust', 'fearful', 'disgust', 'surprised', 'sad', 'disgust', 'neutral', 'happy', 'calm', 'calm', 'neutral', 'neutral', 'happy', 'happy', 'sad', 'happy', 'calm', 'neutral', 'calm', 'happy', 'happy', 'sad', 'sad', 'happy', 'sad', 'calm', 'happy', 'angry', 'calm', 'calm', 'calm', 'sad', 'sad', 'sad', 'sad', 'fearful', 'fearful', 'surprised', 'angry', 'surprised', 'surprised', 'disgust', 'angry', 'fearful', 'fearful', 'surprised', 'surprised', 'disgust', 'angry', 'angry', 'fearful', 'surprised', 'surprised', 'fearful', 'disgust', 'angry', 'fearful', 'surprised', 'disgust', 'disgust', 'disgust', 'fearful', 'angry', 'angry', 'disgust', 'disgust', 'calm', 'happy', 'sad', 'sad', 'calm', 'sad', 'happy', 'happy', 'happy', 'sad', 'happy', 'neutral', 'happy', 'calm', 'calm', 'calm', 'calm', 'neutral', 'happy', 'sad', 'neutral', 'calm', 'happy', 'sad', 'sad', 'neutral', 'calm', 'sad', 'surprised', 'fearful', 'surprised', 'surprised', 'fearful', 'disgust', 'angry', 'fearful', 'angry', 'fearful', 'angry', 'angry', 'disgust', 'angry', 'surprised', 'surprised', 'fearful', 'fearful', 'angry', 'angry', 'surprised', 'angry', 'disgust', 'disgust', 'fearful', 'disgust', 'fearful', 'disgust', 'disgust', 'surprised', 'surprised', 'disgust', 'calm', 'neutral', 'sad', 'calm', 'sad', 'happy', 'happy', 'neutral', 'sad', 'neutral', 'happy', 'angry', 'sad', 'angry', 'calm', 'sad', 'calm', 'happy', 'sad', 'happy', 'angry', 'neutral', 'calm', 'happy', 'happy', 'calm', 'sad', 'calm', 'calm', 'happy', 'angry', 'sad', 'disgust', 'surprised', 'disgust', 'fearful', 'angry', 'disgust', 'surprised', 'disgust', 'angry', 'fearful', 'surprised', 'disgust', 'fearful', 'disgust', 'angry', 'surprised', 'surprised', 'fearful', 'fearful', 'surprised', 'fearful', 'fearful', 'angry', 'surprised', 'surprised', 'disgust', 'fearful', 'disgust', 'happy', 'sad', 'happy', 'angry', 'angry', 'happy', 'calm', 'fearful', 'fearful', 'angry', 'sad', 'disgust', 'angry', 'fearful', 'calm', 'neutral', 'disgust', 'sad', 'sad', 'calm', 'fearful', 'calm', 'happy', 'fearful', 'fearful', 'angry', 'happy', 'calm', 'angry', 'angry', 'happy', 'sad', 'happy', 'disgust', 'happy', 'neutral', 'sad', 'calm', 'neutral', 'fearful', 'disgust', 'sad', 'angry', 'calm', 'disgust', 'sad', 'neutral', 'fearful', 'calm', 'surprised', 'surprised', 'surprised', 'disgust', 'disgust', 'surprised', 'surprised', 'disgust', 'surprised', 'surprised', 'surprised', 'angry', 'calm', 'sad', 'happy', 'neutral', 'happy', 'sad', 'angry', 'happy', 'neutral', 'calm', 'sad', 'sad', 'calm', 'angry', 'calm', 'neutral', 'angry', 'sad', 'calm', 'sad', 'sad', 'happy', 'angry', 'happy', 'happy', 'calm', 'angry', 'calm', 'neutral', 'sad', 'angry', 'calm', 'happy', 'happy', 'fearful', 'fearful', 'surprised', 'disgust', 'surprised', 'disgust', 'surprised', 'disgust', 'surprised', 'surprised', 'disgust', 'disgust', 'surprised', 'fearful', 'fearful', 'disgust', 'disgust', 'fearful', 'surprised', 'disgust', 'fearful', 'surprised', 'angry', 'fearful', 'fearful', 'disgust', 'happy', 'disgust', 'disgust', 'disgust', 'disgust', 'angry', 'angry', 'happy', 'calm', 'calm', 'angry', 'sad', 'angry', 'fearful', 'sad', 'fearful', 'calm', 'calm', 'disgust', 'surprised', 'happy', 'fearful', 'fearful', 'happy', 'happy', 'surprised', 'disgust', 'fearful', 'calm', 'neutral', 'calm', 'angry', 'sad', 'happy', 'calm', 'sad', 'neutral', 'fearful', 'fearful', 'fearful', 'neutral', 'angry', 'happy', 'disgust', 'angry', 'calm', 'angry', 'sad', 'sad', 'happy', 'neutral', 'sad', 'sad', 'surprised', 'surprised', 'surprised', 'surprised', 'surprised', 'surprised', 'angry', 'happy', 'calm', 'happy', 'happy', 'neutral', 'angry', 'disgust', 'neutral', 'happy', 'fearful', 'disgust', 'fearful', 'fearful', 'fearful', 'angry', 'sad', 'calm', 'neutral', 'angry', 'angry', 'calm', 'disgust', 'sad', 'disgust', 'calm', 'neutral', 'angry', 'fearful', 'sad', 'sad', 'calm', 'fearful', 'fearful', 'disgust', 'happy', 'fearful', 'calm', 'happy', 'angry', 'calm', 'sad', 'happy', 'happy', 'sad', 'sad', 'disgust', 'angry', 'sad', 'calm', 'surprised', 'surprised', 'surprised', 'surprised', 'surprised', 'disgust', 'surprised', 'surprised', 'disgust', 'surprised', 'fearful', 'angry', 'disgust', 'sad', 'surprised', 'fearful', 'disgust', 'neutral', 'sad', 'fearful', 'sad', 'disgust', 'sad', 'calm', 'disgust', 'fearful', 'happy', 'neutral', 'calm', 'surprised', 'disgust', 'fearful', 'happy', 'sad', 'angry', 'calm', 'angry', 'fearful', 'disgust', 'calm', 'angry', 'angry', 'disgust', 'happy', 'neutral', 'fearful', 'angry', 'calm', 'happy', 'happy', 'neutral', 'sad', 'happy', 'calm', 'angry', 'calm', 'angry', 'sad', 'happy', 'fearful', 'happy', 'disgust', 'sad', 'calm', 'surprised', 'surprised', 'surprised', 'surprised', 'surprised', 'surprised', 'sad', 'happy', 'sad', 'calm', 'calm', 'neutral', 'sad', 'neutral', 'happy', 'neutral', 'calm', 'angry', 'sad', 'happy', 'sad', 'happy', 'calm', 'happy', 'calm', 'sad', 'sad', 'calm', 'happy', 'happy', 'neutral', 'sad', 'calm', 'happy', 'calm', 'fearful', 'surprised', 'disgust', 'angry', 'fearful', 'surprised', 'fearful', 'surprised', 'disgust', 'fearful', 'surprised', 'angry', 'angry', 'fearful', 'disgust', 'surprised', 'surprised', 'angry', 'angry', 'disgust', 'disgust', 'angry', 'disgust', 'angry', 'fearful', 'fearful', 'fearful', 'surprised', 'disgust', 'surprised', 'disgust', 'angry', 'neutral', 'angry', 'calm', 'happy', 'happy', 'angry', 'sad', 'happy', 'happy', 'happy', 'happy', 'angry', 'calm', 'sad', 'fearful', 'neutral', 'happy', 'angry', 'calm', 'fearful', 'calm', 'sad', 'calm', 'happy', 'calm', 'sad', 'calm', 'neutral', 'sad', 'calm', 'angry', 'neutral', 'angry', 'sad', 'angry', 'sad', 'sad', 'surprised', 'disgust', 'surprised', 'disgust', 'surprised', 'fearful', 'surprised', 'fearful', 'fearful', 'disgust', 'fearful', 'disgust', 'disgust', 'disgust', 'surprised', 'fearful', 'surprised', 'surprised', 'disgust', 'fearful', 'surprised', 'disgust', 'happy', 'angry', 'happy', 'neutral', 'fearful', 'fearful', 'sad', 'happy', 'calm', 'calm', 'happy', 'angry', 'fearful', 'calm', 'calm', 'calm', 'fearful', 'neutral', 'sad', 'sad', 'calm', 'angry', 'fearful', 'calm', 'sad', 'happy', 'happy', 'neutral', 'fearful', 'angry', 'calm', 'angry', 'sad', 'happy', 'angry', 'angry', 'neutral', 'angry', 'sad', 'sad', 'happy', 'sad', 'surprised', 'surprised', 'surprised', 'disgust', 'surprised', 'disgust', 'surprised', 'fearful', 'disgust', 'disgust', 'fearful', 'disgust', 'surprised', 'surprised', 'disgust', 'disgust', 'surprised', 'disgust', 'happy', 'calm', 'neutral', 'calm', 'angry', 'sad', 'happy', 'neutral', 'sad', 'happy', 'calm', 'sad', 'sad', 'calm', 'sad', 'happy', 'sad', 'angry', 'calm', 'calm', 'happy', 'angry', 'angry', 'angry', 'sad', 'happy', 'happy', 'happy', 'calm', 'sad', 'calm', 'neutral', 'fearful', 'fearful', 'surprised', 'disgust', 'disgust', 'angry', 'surprised', 'disgust', 'surprised', 'disgust', 'fearful', 'angry', 'fearful', 'disgust', 'fearful', 'disgust', 'surprised', 'surprised', 'surprised', 'disgust', 'surprised', 'disgust', 'fearful', 'fearful', 'surprised', 'angry', 'fearful', 'fearful', 'happy', 'angry', 'neutral', 'sad', 'calm', 'angry', 'happy', 'fearful', 'happy', 'sad', 'neutral', 'angry', 'angry', 'calm', 'fearful', 'happy', 'fearful', 'angry', 'disgust', 'calm', 'fearful', 'fearful', 'sad', 'fearful', 'calm', 'happy', 'happy', 'sad', 'calm', 'sad', 'angry', 'angry', 'sad', 'sad', 'calm', 'neutral', 'calm', 'calm', 'sad', 'happy', 'angry', 'neutral', 'happy', 'fearful', 'disgust', 'surprised', 'disgust', 'surprised', 'disgust', 'disgust', 'surprised', 'surprised', 'surprised', 'disgust', 'disgust', 'disgust', 'surprised', 'surprised', 'surprised']\n",
      "Shape of X_train: (1151, 13)\n",
      "Shape of y_train: (1151,)\n",
      "Shape of X_test: (288, 13)\n",
      "Shape of y_test: (288,)\n",
      "Epoch 1/10\n",
      "36/36 [==============================] - 6s 10ms/step - loss: 49.1160 - accuracy: 0.1268 - val_loss: 7.4550 - val_accuracy: 0.1597\n",
      "Epoch 2/10\n",
      "36/36 [==============================] - 0s 4ms/step - loss: 18.4115 - accuracy: 0.1503 - val_loss: 2.6913 - val_accuracy: 0.1285\n",
      "Epoch 3/10\n",
      "36/36 [==============================] - 0s 4ms/step - loss: 7.0128 - accuracy: 0.1381 - val_loss: 2.0799 - val_accuracy: 0.1215\n",
      "Epoch 4/10\n",
      "36/36 [==============================] - 0s 4ms/step - loss: 3.4761 - accuracy: 0.1442 - val_loss: 2.0768 - val_accuracy: 0.1250\n",
      "Epoch 5/10\n",
      "36/36 [==============================] - 0s 4ms/step - loss: 2.7939 - accuracy: 0.1390 - val_loss: 2.0755 - val_accuracy: 0.1250\n",
      "Epoch 6/10\n",
      "36/36 [==============================] - 0s 4ms/step - loss: 2.4351 - accuracy: 0.1260 - val_loss: 2.0742 - val_accuracy: 0.1250\n",
      "Epoch 7/10\n",
      "36/36 [==============================] - 0s 5ms/step - loss: 2.3082 - accuracy: 0.1373 - val_loss: 2.0728 - val_accuracy: 0.1250\n",
      "Epoch 8/10\n",
      "36/36 [==============================] - 0s 9ms/step - loss: 2.2374 - accuracy: 0.1373 - val_loss: 2.0716 - val_accuracy: 0.1250\n",
      "Epoch 9/10\n",
      "36/36 [==============================] - 0s 9ms/step - loss: 2.2473 - accuracy: 0.1242 - val_loss: 2.0707 - val_accuracy: 0.1250\n",
      "Epoch 10/10\n",
      "36/36 [==============================] - 0s 5ms/step - loss: 2.1941 - accuracy: 0.1425 - val_loss: 2.0699 - val_accuracy: 0.1250\n",
      "9/9 [==============================] - 0s 3ms/step - loss: 2.0699 - accuracy: 0.1250\n",
      "Test loss: 2.069852352142334\n",
      "Test accuracy: 0.125\n",
      "1/1 [==============================] - 0s 101ms/step\n",
      "Predicted emotion: neutral\n"
     ]
    }
   ],
   "source": [
    "import os\n",
    "import librosa\n",
    "import numpy as np\n",
    "from sklearn.model_selection import train_test_split\n",
    "from keras.models import Sequential\n",
    "from keras.layers import Dense, Dropout\n",
    "from keras.utils import to_categorical\n",
    "from sklearn.preprocessing import LabelEncoder\n",
    "\n",
    "# Path to the RAVDESS dataset\n",
    "dataset_path = \"/content/drive/MyDrive/Speech_Emotion_Detection-master/speech-emotion-recognition-ravdess-data/\"\n",
    "\n",
    "# List of emotions in the RAVDESS dataset\n",
    "emotions = {\n",
    "    \"01\": \"neutral\",\n",
    "    \"02\": \"calm\",\n",
    "    \"03\": \"happy\",\n",
    "    \"04\": \"sad\",\n",
    "    \"05\": \"angry\",\n",
    "    \"06\": \"fearful\",\n",
    "    \"07\": \"disgust\",\n",
    "    \"08\": \"surprised\"\n",
    "}\n",
    "\n",
    "# Function to extract audio features using Librosa\n",
    "def extract_features(file_path):\n",
    "    features = []\n",
    "    audio, _ = librosa.load(file_path, duration=2.5, offset=0.5)\n",
    "    mfccs = librosa.feature.mfcc(y=audio, sr=22050, n_mfcc=13)\n",
    "    features.extend(np.mean(mfccs.T, axis=0))\n",
    "    return features\n",
    "\n",
    "# Load audio files and extract features\n",
    "X = []\n",
    "y = []\n",
    "# Load audio files and extract features\n",
    "X = []\n",
    "y = []\n",
    "for root, dirs, files in os.walk(dataset_path):\n",
    "    for file in files:\n",
    "        if file.endswith(\".wav\"):\n",
    "            file_path = os.path.join(root, file)\n",
    "            emotion = emotions[file.split(\"-\")[2]]\n",
    "            features = extract_features(file_path)\n",
    "            X.append(features)\n",
    "            y.append(emotion)\n",
    "\n",
    "print(y)  # Print the y array to inspect its content\n",
    "\n",
    "# Perform label encoding on emotion labels\n",
    "label_encoder = LabelEncoder()\n",
    "y = label_encoder.fit_transform(y)\n",
    "\n",
    "# Split the data into training and testing sets\n",
    "X_train_fnn, X_test_fnn, y_train_fnn, y_test_fnn = train_test_split(X, y, test_size=0.2, random_state=42)\n",
    "\n",
    "\n",
    "# Convert the data to NumPy arrays\n",
    "X_train_fnn = np.array(X_train_fnn)\n",
    "y_train_fnn = np.array(y_train_fnn)\n",
    "X_test_fnn = np.array(X_test_fnn)\n",
    "y_test_fnn = np.array(y_test_fnn)\n",
    "\n",
    "\n",
    "print(\"Shape of X_train:\", np.array(X_train_fnn).shape)\n",
    "print(\"Shape of y_train:\", np.array(y_train_fnn).shape)\n",
    "print(\"Shape of X_test:\", np.array(X_test_fnn).shape)\n",
    "print(\"Shape of y_test:\", np.array(y_test_fnn).shape)\n",
    "\n",
    "from tensorflow.keras.models import Sequential\n",
    "from tensorflow.keras.layers import Dense, Dropout\n",
    "\n",
    "# Determine the number of classes\n",
    "num_classes = len(np.unique(y_train_fnn))\n",
    "\n",
    "# Build the model\n",
    "model_fnn = Sequential()\n",
    "model_fnn.add(Dense(128, activation='relu', input_shape=(X_train_fnn.shape[1],)))\n",
    "model_fnn.add(Dropout(0.3))\n",
    "model_fnn.add(Dense(128, activation='relu'))\n",
    "model_fnn.add(Dropout(0.3))\n",
    "model_fnn.add(Dense(num_classes, activation='softmax'))\n",
    "\n",
    "# Compile and train the model\n",
    "model_fnn.compile(loss='sparse_categorical_crossentropy', optimizer='adam', metrics=['accuracy'])\n",
    "model_fnn.fit(X_train_fnn, y_train_fnn, batch_size=32, epochs=10, validation_data=(X_test_fnn, y_test_fnn))\n",
    "\n",
    "# Evaluate the model\n",
    "loss, accuracy = model_fnn.evaluate(np.array(X_test_fnn), np.array(y_test_fnn))\n",
    "print(\"Test loss:\", loss)\n",
    "print(\"Test accuracy:\", accuracy)\n",
    "\n",
    "emotions = [\"neutral\", \"calm\", \"happy\", \"sad\", \"angry\", \"fearful\", \"disgust\", \"surprised\"]\n",
    "\n",
    "# Predict the emotion for a sample input\n",
    "sample_file = \"/content/drive/MyDrive/Speech_Emotion_Detection-master/output102.wav\"\n",
    "sample_features = extract_features(sample_file)\n",
    "sample_features = np.array(sample_features).reshape(1, -1)\n",
    "predicted_emotion = emotions[np.argmax(model_fnn.predict(sample_features))]\n",
    "print(\"Predicted emotion:\", predicted_emotion)\n"
   ]
  },
  {
   "cell_type": "code",
   "execution_count": null,
   "metadata": {
    "id": "dlVP7nu9egv_"
   },
   "outputs": [],
   "source": [
    "from sklearn.metrics import accuracy_score, precision_score, recall_score, f1_score\n",
    "\n",
    "# Predict the emotions for the testing data\n",
    "y_pred_fnn = np.argmax(model_fnn.predict(X_test_fnn), axis=1)\n",
    "\n",
    "# Reverse label encoding for 'y_true' and 'y_pred'\n",
    "y_true_fnn = label_encoder.inverse_transform(y_test_fnn)\n",
    "y_pred_fnn = label_encoder.inverse_transform(y_pred_fnn)\n",
    "\n",
    "# Calculate metrics\n",
    "accuracy = accuracy_score(y_true_fnn, y_pred_fnn)\n",
    "precision = precision_score(y_true_fnn, y_pred_fnn, average='weighted')\n",
    "recall = recall_score(y_true_fnn, y_pred_fnn, average='weighted')\n",
    "f1 = f1_score(y_true_fnn, y_pred_fnn, average='weighted')\n",
    "print(\"Metrics of FNN\")\n",
    "print(\"Accuracy:\", accuracy)\n",
    "print(\"Precision:\", precision)\n",
    "print(\"Recall:\", recall)\n",
    "print(\"F1-score:\", f1)\n"
   ]
  },
  {
   "cell_type": "code",
   "execution_count": null,
   "metadata": {
    "id": "v3ODxzGtiiGD"
   },
   "outputs": [],
   "source": [
    "import matplotlib.pyplot as plt\n",
    "import seaborn as sns\n",
    "from sklearn.metrics import confusion_matrix\n",
    "\n",
    "# Predict the emotions for the testing data\n",
    "y_pred_fnn_probs = model_fnn.predict(X_test_fnn)\n",
    "y_pred_fnn = np.argmax(y_pred_fnn_probs, axis=1)\n",
    "# Convert emotions dictionary to a list\n",
    "emotions = [\"neutral\", \"calm\", \"happy\", \"sad\", \"angry\", \"fearful\", \"disgust\", \"surprised\"]\n",
    "\n",
    "# Reverse label encoding for 'y_test_fnn' and 'y_pred_fnn'\n",
    "y_test_fnn_labels = label_encoder.inverse_transform(y_test_fnn)\n",
    "y_pred_fnn_labels = label_encoder.inverse_transform(y_pred_fnn)\n",
    "\n",
    "# Calculate confusion matrix\n",
    "cm_fnn = confusion_matrix(y_test_fnn_labels, y_pred_fnn_labels, labels=emotions)\n",
    "\n",
    "# Define labels for the confusion matrix\n",
    "cm_labels = emotions\n",
    "\n",
    "# Plot the confusion matrix\n",
    "plt.figure(figsize=(8, 6))\n",
    "sns.heatmap(cm_fnn, annot=True, fmt=\"d\", cmap=\"Blues\", xticklabels=cm_labels, yticklabels=cm_labels)\n",
    "plt.title(\"Confusion Matrix of FNN\")\n",
    "plt.xlabel(\"Predicted Label\")\n",
    "plt.ylabel(\"True Label\")\n",
    "plt.show()\n"
   ]
  },
  {
   "cell_type": "markdown",
   "metadata": {
    "id": "1gtUQ1A0PAii"
   },
   "source": [
    "SER Using RNN-LSTM"
   ]
  },
  {
   "cell_type": "code",
   "execution_count": null,
   "metadata": {
    "id": "JU8DEMBUMyvQ"
   },
   "outputs": [],
   "source": [
    "import os\n",
    "import librosa\n",
    "import numpy as np\n",
    "from sklearn.model_selection import train_test_split\n",
    "from sklearn.preprocessing import LabelEncoder\n",
    "from keras.models import Sequential\n",
    "from keras.layers import Dense, Dropout, LSTM\n",
    "\n",
    "# Path to the RAVDESS dataset\n",
    "dataset_path = \"/content/drive/MyDrive/Speech_Emotion_Detection-master/speech-emotion-recognition-ravdess-data/\"\n",
    "\n",
    "# List of emotions in the RAVDESS dataset\n",
    "emotions = {\n",
    "    \"01\": \"neutral\",\n",
    "    \"02\": \"calm\",\n",
    "    \"03\": \"happy\",\n",
    "    \"04\": \"sad\",\n",
    "    \"05\": \"angry\",\n",
    "    \"06\": \"fearful\",\n",
    "    \"07\": \"disgust\",\n",
    "    \"08\": \"surprised\"\n",
    "}\n",
    "\n",
    "# Function to extract audio features using Librosa\n",
    "def extract_features(file_path):\n",
    "    features = []\n",
    "    audio, _ = librosa.load(file_path, duration=2.5, offset=0.5)\n",
    "    mfccs = librosa.feature.mfcc(y=audio, sr=22050, n_mfcc=13)\n",
    "    features.extend(np.mean(mfccs.T, axis=0))\n",
    "    return features\n",
    "\n",
    "# Load audio files and extract features\n",
    "X = []\n",
    "y = []\n",
    "for root, dirs, files in os.walk(dataset_path):\n",
    "    for file in files:\n",
    "        if file.endswith(\".wav\"):\n",
    "            file_path = os.path.join(root, file)\n",
    "            emotion = emotions[file.split(\"-\")[2]]\n",
    "            features = extract_features(file_path)\n",
    "            X.append(features)\n",
    "            y.append(emotion)\n",
    "\n",
    "# Perform label encoding on emotion labels\n",
    "label_encoder = LabelEncoder()\n",
    "y = label_encoder.fit_transform(y)\n",
    "\n",
    "# Split the data into training and testing sets\n",
    "X_train_rnn, X_test_rnn, y_train_rnn, y_test_rnn = train_test_split(X, y, test_size=0.2, random_state=42)\n",
    "\n",
    "# Convert the data to NumPy arrays\n",
    "X_train_rnn = np.array(X_train_rnn)\n",
    "y_train_rnn = np.array(y_train_rnn)\n",
    "X_test_rnn = np.array(X_test_rnn)\n",
    "y_test_rnn = np.array(y_test_rnn)\n",
    "\n",
    "# Determine the number of classes\n",
    "num_classes = len(np.unique(y_train_rnn))\n",
    "\n",
    "# Build the RNN model\n",
    "model_rnn = Sequential()\n",
    "model_rnn.add(LSTM(128, input_shape=(X_train_rnn.shape[1], 1)))\n",
    "model_rnn.add(Dropout(0.3))\n",
    "model_rnn.add(Dense(64, activation='relu'))\n",
    "model_rnn.add(Dropout(0.3))\n",
    "model_rnn.add(Dense(num_classes, activation='softmax'))\n",
    "\n",
    "# Compile and train the model\n",
    "model_rnn.compile(loss='sparse_categorical_crossentropy', optimizer='adam', metrics=['accuracy'])\n",
    "model_rnn.fit(np.expand_dims(X_train_rnn, axis=2), y_train_rnn, batch_size=32, epochs=10, validation_data=(np.expand_dims(X_test_rnn, axis=2), y_test_rnn))\n",
    "\n",
    "# Evaluate the model\n",
    "loss, accuracy = model_rnn.evaluate(np.expand_dims(X_test_rnn, axis=2), y_test_rnn)\n",
    "print(\"Test loss:\", loss)\n",
    "print(\"Test accuracy:\", accuracy)\n",
    "\n",
    "# Reverse label encoding for prediction\n",
    "inverse_mapping = {v: k for k, v in emotions.items()}\n",
    "\n",
    "# Predict the emotion for a sample input\n",
    "sample_file = \"/content/drive/MyDrive/Speech_Emotion_Detection-master/output102.wav\"\n",
    "sample_features = extract_features(sample_file)\n",
    "sample_features = np.array(sample_features).reshape(1, -1)\n",
    "predicted_emotion_index = np.argmax(model_rnn.predict(np.expand_dims(sample_features, axis=2)))\n",
    "predicted_emotion_label = emotions.get(\"{:02d}\".format(predicted_emotion_index + 1), \"Unknown\")\n",
    "print(\"Predicted emotion:\", predicted_emotion_label)\n"
   ]
  },
  {
   "cell_type": "code",
   "execution_count": null,
   "metadata": {
    "id": "cAGn_d3MctXf"
   },
   "outputs": [],
   "source": [
    "from sklearn.metrics import accuracy_score, precision_score, recall_score, f1_score\n",
    "\n",
    "# Predict the emotions for the testing data\n",
    "y_pred_rnn = np.argmax(model_rnn.predict(np.expand_dims(X_test_rnn, axis=2)), axis=1)\n",
    "\n",
    "# Reverse label encoding for 'y_true' and 'y_pred'\n",
    "y_true_rnn = label_encoder.inverse_transform(y_test_rnn)\n",
    "y_pred_rnn = label_encoder.inverse_transform(y_pred_rnn)\n",
    "\n",
    "# Calculate metrics\n",
    "accuracy = accuracy_score(y_true_rnn, y_pred_rnn)\n",
    "precision = precision_score(y_true_rnn, y_pred_rnn, average='weighted')\n",
    "recall = recall_score(y_true_rnn, y_pred_rnn, average='weighted')\n",
    "f1 = f1_score(y_true_rnn, y_pred_rnn, average='weighted')\n",
    "\n",
    "print(\"Metrics of RNN\")\n",
    "print(\"Accuracy:\", accuracy)\n",
    "print(\"Precision:\", precision)\n",
    "print(\"Recall:\", recall)\n",
    "print(\"F1-score:\", f1)\n"
   ]
  },
  {
   "cell_type": "code",
   "execution_count": null,
   "metadata": {
    "id": "tOPDx7ouhTrU"
   },
   "outputs": [],
   "source": [
    "import os\n",
    "import librosa\n",
    "import numpy as np\n",
    "import matplotlib.pyplot as plt\n",
    "import seaborn as sns\n",
    "from sklearn.model_selection import train_test_split\n",
    "from sklearn.preprocessing import LabelEncoder\n",
    "from sklearn.metrics import confusion_matrix\n",
    "from keras.models import Sequential\n",
    "from keras.layers import Dense, Dropout, LSTM\n",
    "\n",
    "emotions = {\n",
    "    0: \"neutral\",\n",
    "    1: \"calm\",\n",
    "    2: \"happy\",\n",
    "    3: \"sad\",\n",
    "    4: \"angry\",\n",
    "    5: \"fearful\",\n",
    "    6: \"disgust\",\n",
    "    7: \"surprised\"\n",
    "}\n",
    "\n",
    "\n",
    "# Predict the emotions for the testing data\n",
    "y_pred_rnn = np.argmax(model_rnn.predict(np.expand_dims(X_test_rnn, axis=2)), axis=1)\n",
    "\n",
    "# Reverse label encoding for 'y_test_rnn' and 'y_pred_rnn'\n",
    "y_test_rnn_decoded = label_encoder.inverse_transform(y_test_rnn)\n",
    "y_pred_rnn_decoded = label_encoder.inverse_transform(y_pred_rnn)\n",
    "\n",
    "# Calculate the confusion matrix\n",
    "cm = confusion_matrix(y_test_rnn_decoded, y_pred_rnn_decoded)\n",
    "\n",
    "# Plot the confusion matrix\n",
    "plt.figure(figsize=(8, 6))\n",
    "sns.heatmap(cm, annot=True, fmt=\"d\", cmap=\"Blues\", xticklabels=list(emotions.values()), yticklabels=list(emotions.values()))\n",
    "plt.xlabel(\"Predicted\")\n",
    "plt.ylabel(\"True\")\n",
    "plt.title(\"Confusion Matrix of LSTM\")\n",
    "plt.show()\n",
    "\n"
   ]
  },
  {
   "cell_type": "markdown",
   "metadata": {
    "id": "JcGlvI0RgU1e"
   },
   "source": [
    "SER Using CNN"
   ]
  },
  {
   "cell_type": "code",
   "execution_count": null,
   "metadata": {
    "id": "3Kv96OYyNjAG"
   },
   "outputs": [],
   "source": [
    "import os\n",
    "import librosa\n",
    "import numpy as np\n",
    "from sklearn.model_selection import train_test_split\n",
    "from sklearn.preprocessing import LabelEncoder\n",
    "from keras.models import Sequential\n",
    "from keras.layers import Dense, Dropout, Conv2D, Flatten\n",
    "\n",
    "# Path to the RAVDESS dataset\n",
    "dataset_path = \"/content/drive/MyDrive/Speech_Emotion_Detection-master/speech-emotion-recognition-ravdess-data/\"\n",
    "\n",
    "# List of emotions in the RAVDESS dataset\n",
    "emotions = {\n",
    "    \"01\": \"neutral\",\n",
    "    \"02\": \"calm\",\n",
    "    \"03\": \"happy\",\n",
    "    \"04\": \"sad\",\n",
    "    \"05\": \"angry\",\n",
    "    \"06\": \"fearful\",\n",
    "    \"07\": \"disgust\",\n",
    "    \"08\": \"surprised\"\n",
    "}\n",
    "\n",
    "# Function to extract audio features using Librosa\n",
    "def extract_features(file_path):\n",
    "    features = []\n",
    "    audio, _ = librosa.load(file_path, duration=2.5, offset=0.5)\n",
    "    mfccs = librosa.feature.mfcc(y=audio, sr=22050, n_mfcc=13)\n",
    "    features.append(mfccs.T)\n",
    "    return features\n",
    "\n",
    "# Load audio files and extract features\n",
    "X = []\n",
    "y = []\n",
    "for root, dirs, files in os.walk(dataset_path):\n",
    "    for file in files:\n",
    "        if file.endswith(\".wav\"):\n",
    "            file_path = os.path.join(root, file)\n",
    "            emotion = emotions[file.split(\"-\")[2]]\n",
    "            features = extract_features(file_path)\n",
    "            X.extend(features)\n",
    "            y.extend([emotion] * len(features))\n",
    "\n",
    "# Perform label encoding on emotion labels\n",
    "label_encoder = LabelEncoder()\n",
    "y = label_encoder.fit_transform(y)\n",
    "\n",
    "# Split the data into training and testing sets\n",
    "X_train_cnn, X_test_cnn, y_train_cnn, y_test_cnn = train_test_split(X, y, test_size=0.2, random_state=42)\n",
    "\n",
    "# Determine the number of classes\n",
    "num_classes = len(np.unique(y_train_cnn))\n",
    "\n",
    "# Pad or truncate the feature arrays to a fixed length\n",
    "max_len = max(len(features) for features in X_train_cnn)\n",
    "X_train_cnn = [np.pad(features, ((0, max_len - len(features)), (0, 0))) for features in X_train_cnn]\n",
    "X_test_cnn = [np.pad(features, ((0, max_len - len(features)), (0, 0))) for features in X_test_cnn]\n",
    "\n",
    "# Convert the data to NumPy arrays\n",
    "X_train_cnn = np.array(X_train_cnn)\n",
    "y_train_cnn = np.array(y_train_cnn)\n",
    "X_test_cnn = np.array(X_test_cnn)\n",
    "y_test_cnn = np.array(y_test_cnn)\n",
    "\n",
    "# Build the CNN model\n",
    "model_cnn = Sequential()\n",
    "model_cnn.add(Conv2D(32, kernel_size=(3, 3), activation='relu', input_shape=(X_train_cnn.shape[1], X_train_cnn.shape[2], 1)))\n",
    "model_cnn.add(Conv2D(64, kernel_size=(3, 3), activation='relu'))\n",
    "model_cnn.add(Conv2D(128, kernel_size=(3, 3), activation='relu'))\n",
    "model_cnn.add(Flatten())\n",
    "model_cnn.add(Dense(128, activation='relu'))\n",
    "model_cnn.add(Dropout(0.5))\n",
    "model_cnn.add(Dense(num_classes, activation='softmax'))\n",
    "\n",
    "# Compile and train the model\n",
    "model_cnn.compile(loss='sparse_categorical_crossentropy', optimizer='adam', metrics=['accuracy'])\n",
    "model_cnn.fit(np.expand_dims(X_train_cnn, axis=3), y_train_cnn, batch_size=32, epochs=10, validation_data=(np.expand_dims(X_test_cnn, axis=3), y_test_cnn))\n",
    "\n",
    "# Evaluate the model\n",
    "loss, accuracy = model_cnn.evaluate(np.expand_dims(X_test_cnn, axis=3), y_test_cnn)\n",
    "print(\"Test loss:\", loss)\n",
    "print(\"Test accuracy:\", accuracy)\n",
    "\n",
    "# Reverse label encoding for prediction\n",
    "inverse_mapping = {v: k for k, v in emotions.items()}\n",
    "\n",
    "# Predict the emotion for a sample input\n",
    "sample_file = \"/content/drive/MyDrive/Speech_Emotion_Detection-master/output102.wav\"\n",
    "sample_features = extract_features(sample_file)\n",
    "sample_features = [np.pad(features, ((0, max_len - len(features)), (0, 0))) for features in sample_features]\n",
    "sample_features = np.array(sample_features)\n",
    "predicted_emotion_index = np.argmax(model_cnn.predict(np.expand_dims(sample_features, axis=3)))\n",
    "predicted_emotion_label = emotions.get(\"{:02d}\".format(predicted_emotion_index + 1), \"Unknown\")\n",
    "print(\"Predicted emotion:\", predicted_emotion_label)\n"
   ]
  },
  {
   "cell_type": "code",
   "execution_count": null,
   "metadata": {
    "id": "J09rgck-ZPBY"
   },
   "outputs": [],
   "source": [
    "from sklearn.metrics import accuracy_score, precision_score, recall_score, f1_score\n",
    "\n",
    "# Predict the emotions for the testing data\n",
    "y_pred_prob = model_cnn.predict(np.expand_dims(X_test_cnn, axis=3))\n",
    "y_pred_cnn = np.argmax(y_pred_prob, axis=1)\n",
    "\n",
    "# Reverse label encoding for 'y_true' and 'y_pred'\n",
    "y_true_cnn = label_encoder.inverse_transform(y_test_cnn)\n",
    "y_pred_cnn = label_encoder.inverse_transform(y_pred_cnn)\n",
    "\n",
    "# Calculate metrics\n",
    "accuracy = accuracy_score(y_true_cnn, y_pred_cnn)\n",
    "precision = precision_score(y_true_cnn, y_pred_cnn, average='weighted')\n",
    "recall = recall_score(y_true_cnn, y_pred_cnn, average='weighted')\n",
    "f1 = f1_score(y_true_cnn, y_pred_cnn, average='weighted')\n",
    "\n",
    "\n",
    "print(\"Metrics of CNN\")\n",
    "print(\"Accuracy:\", accuracy)\n",
    "print(\"Precision:\", precision)\n",
    "print(\"Recall:\", recall)\n",
    "print(\"F1-score:\", f1)\n"
   ]
  },
  {
   "cell_type": "code",
   "execution_count": null,
   "metadata": {
    "id": "bmG-mS2zZO-S"
   },
   "outputs": [],
   "source": [
    "import os\n",
    "import librosa\n",
    "import numpy as np\n",
    "from sklearn.model_selection import train_test_split\n",
    "from sklearn.preprocessing import LabelEncoder\n",
    "from sklearn.metrics import confusion_matrix\n",
    "import seaborn as sns\n",
    "import matplotlib.pyplot as plt\n",
    "\n",
    "# ... (previous code up to model evaluation)\n",
    "# Predict the emotions for the testing data\n",
    "y_pred_probabilities = model_cnn.predict(np.expand_dims(X_test_cnn, axis=3))\n",
    "y_pred_cnn = np.argmax(y_pred_probabilities, axis=1)\n",
    "\n",
    "# Reverse label encoding for 'y_true' and 'y_pred'\n",
    "y_true_cnn = label_encoder.inverse_transform(y_test_cnn)\n",
    "y_pred_cnn = label_encoder.inverse_transform(y_pred_cnn)\n",
    "\n",
    "\n",
    "# Perform label encoding on emotion labels\n",
    "label_encoder = LabelEncoder()\n",
    "y_true_numeric = label_encoder.fit_transform(y_true_cnn)\n",
    "y_pred_numeric = label_encoder.transform(y_pred_cnn)\n",
    "\n",
    "# Calculate confusion matrix\n",
    "cm = confusion_matrix(y_true_numeric, y_pred_numeric)\n",
    "\n",
    "# Define labels for the confusion matrix\n",
    "cm_labels = label_encoder.classes_\n",
    "\n",
    "\n",
    "# Define labels for the confusion matrix\n",
    "labels = list(emotions.values())\n",
    "\n",
    "# Plot the confusion matrix using seaborn's heatmap\n",
    "plt.figure(figsize=(8, 6))\n",
    "sns.heatmap(cm, annot=True, fmt=\"d\", cmap=\"Blues\", xticklabels=labels, yticklabels=labels)\n",
    "plt.xlabel(\"Predicted\")\n",
    "plt.ylabel(\"True\")\n",
    "plt.title(\"Confusion Matrix of CNN\")\n",
    "plt.show()\n"
   ]
  },
  {
   "cell_type": "code",
   "execution_count": null,
   "metadata": {
    "id": "o9MOc0CjC7tQ"
   },
   "outputs": [],
   "source": [
    "import pandas as pd\n",
    "\n",
    "# Define the models and their corresponding metrics\n",
    "models = ['CNN', 'LSTM', 'MLP Classifier', 'SVM', 'HMM', 'FNN']\n",
    "accuracy = [0.53, 0.27, 0.61, 0.54, 0.0, 0.12]\n",
    "precision = [0.65, 0.42, 0.58, 0.62, 0.0, 0.29]\n",
    "recall = [0.52, 0.38, 0.63, 0.56, 0.0, 0.19]\n",
    "f1_score = [0.57, 0.29, 0.60, 0.58, 0.0, 0.22]\n",
    "\n",
    "# Create a dictionary with the data\n",
    "data = {\n",
    "    'Model': models,\n",
    "    'Accuracy': accuracy,\n",
    "    'Precision': precision,\n",
    "    'Recall': recall,\n",
    "    'F1-score': f1_score\n",
    "}\n",
    "\n",
    "# Create a DataFrame from the dictionary\n",
    "df = pd.DataFrame(data)\n",
    "\n",
    "# Set the Model column as the index\n",
    "df.set_index('Model', inplace=True)\n",
    "\n",
    "# Display the DataFrame\n",
    "print(df)\n"
   ]
  },
  {
   "cell_type": "code",
   "execution_count": null,
   "metadata": {
    "id": "CvZ73VXXDH3j"
   },
   "outputs": [],
   "source": []
  }
 ],
 "metadata": {
  "accelerator": "GPU",
  "colab": {
   "gpuType": "T4",
   "provenance": []
  },
  "kernelspec": {
   "display_name": "Python 3 (ipykernel)",
   "language": "python",
   "name": "python3"
  },
  "language_info": {
   "codemirror_mode": {
    "name": "ipython",
    "version": 3
   },
   "file_extension": ".py",
   "mimetype": "text/x-python",
   "name": "python",
   "nbconvert_exporter": "python",
   "pygments_lexer": "ipython3",
   "version": "3.12.4"
  }
 },
 "nbformat": 4,
 "nbformat_minor": 4
}
